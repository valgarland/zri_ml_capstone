{
 "cells": [
  {
   "cell_type": "code",
   "execution_count": 2,
   "metadata": {},
   "outputs": [],
   "source": [
    "import pandas as pd\n",
    "import numpy as np\n",
    "import seaborn as sns\n",
    "import matplotlib.pyplot as plt\n",
    "\n",
    "pd.set_option('display.max_columns', 150)\n",
    "pd.set_option('display.max_rows', 250)"
   ]
  },
  {
   "cell_type": "markdown",
   "metadata": {},
   "source": [
    "### Base LR model with only ZRI from the previous year"
   ]
  },
  {
   "cell_type": "code",
   "execution_count": 3,
   "metadata": {},
   "outputs": [],
   "source": [
    "full = pd.read_csv('model_data.csv')"
   ]
  },
  {
   "cell_type": "code",
   "execution_count": 5,
   "metadata": {},
   "outputs": [],
   "source": [
    "X_zri_test = full.loc[full['year_x']==2017][['ZRI_1yr_ago']]\n",
    "y_zri_test = full.loc[full['year_x']==2017]['ZRI']"
   ]
  },
  {
   "cell_type": "code",
   "execution_count": 6,
   "metadata": {},
   "outputs": [],
   "source": [
    "X_zri_train = full.loc[full['year_x']!=2017][['ZRI_1yr_ago']]\n",
    "y_zri_train = full.loc[full['year_x']!=2017]['ZRI']"
   ]
  },
  {
   "cell_type": "code",
   "execution_count": 7,
   "metadata": {},
   "outputs": [
    {
     "data": {
      "text/plain": [
       "0.9871022030170161"
      ]
     },
     "execution_count": 7,
     "metadata": {},
     "output_type": "execute_result"
    }
   ],
   "source": [
    "from sklearn.linear_model import LinearRegression\n",
    "\n",
    "lm = LinearRegression()\n",
    "lm.fit(X_zri_train, y_zri_train)\n",
    "lm.score(X_zri_train, y_zri_train)"
   ]
  },
  {
   "cell_type": "code",
   "execution_count": 8,
   "metadata": {},
   "outputs": [
    {
     "data": {
      "text/plain": [
       "0.9844745451826197"
      ]
     },
     "execution_count": 8,
     "metadata": {},
     "output_type": "execute_result"
    }
   ],
   "source": [
    "lm.score(X_zri_test, y_zri_test)"
   ]
  },
  {
   "cell_type": "code",
   "execution_count": 9,
   "metadata": {},
   "outputs": [
    {
     "data": {
      "text/plain": [
       "<matplotlib.axes._subplots.AxesSubplot at 0x17f30870220>"
      ]
     },
     "execution_count": 9,
     "metadata": {},
     "output_type": "execute_result"
    },
    {
     "data": {
      "image/png": "[encoded data removed]",
      "text/plain": [
       "<Figure size 432x288 with 1 Axes>"
      ]
     },
     "metadata": {
      "needs_background": "light"
     },
     "output_type": "display_data"
    }
   ],
   "source": [
    "(lm.predict(X_zri_test) - y_zri_test).hist()"
   ]
  },
  {
   "cell_type": "code",
   "execution_count": 10,
   "metadata": {
    "scrolled": false
   },
   "outputs": [
    {
     "name": "stdout",
     "output_type": "stream",
     "text": [
      "                            OLS Regression Results                            \n",
      "==============================================================================\n",
      "Dep. Variable:                    ZRI   R-squared:                       0.987\n",
      "Model:                            OLS   Adj. R-squared:                  0.987\n",
      "Method:                 Least Squares   F-statistic:                 6.005e+06\n",
      "Date:                Thu, 17 Dec 2020   Prob (F-statistic):               0.00\n",
      "Time:                        12:45:52   Log-Likelihood:             1.4568e+05\n",
      "No. Observations:               78468   AIC:                        -2.914e+05\n",
      "Df Residuals:                   78466   BIC:                        -2.913e+05\n",
      "Df Model:                           1                                         \n",
      "Covariance Type:            nonrobust                                         \n",
      "===============================================================================\n",
      "                  coef    std err          t      P>|t|      [0.025      0.975]\n",
      "-------------------------------------------------------------------------------\n",
      "const           0.1785      0.003     60.204      0.000       0.173       0.184\n",
      "ZRI_1yr_ago     0.9783      0.000   2450.553      0.000       0.978       0.979\n",
      "==============================================================================\n",
      "Omnibus:                     7194.317   Durbin-Watson:                   0.249\n",
      "Prob(Omnibus):                  0.000   Jarque-Bera (JB):            45288.574\n",
      "Skew:                          -0.195   Prob(JB):                         0.00\n",
      "Kurtosis:                       6.701   Cond. No.                         166.\n",
      "==============================================================================\n",
      "\n",
      "Warnings:\n",
      "[1] Standard Errors assume that the covariance matrix of the errors is correctly specified.\n"
     ]
    }
   ],
   "source": [
    "import statsmodels.api as sm\n",
    "x = sm.add_constant(X_zri_train)\n",
    "model = sm.OLS(y_zri_train, x)\n",
    "results = model.fit()\n",
    "print(results.summary()) "
   ]
  },
  {
   "cell_type": "markdown",
   "metadata": {},
   "source": [
    "### Base LR model 2 with only ZRI from the previous year, Month, and Metro "
   ]
  },
  {
   "cell_type": "code",
   "execution_count": 11,
   "metadata": {},
   "outputs": [
    {
     "data": {
      "text/html": [
       "<div>\n",
       "<style scoped>\n",
       "    .dataframe tbody tr th:only-of-type {\n",
       "        vertical-align: middle;\n",
       "    }\n",
       "\n",
       "    .dataframe tbody tr th {\n",
       "        vertical-align: top;\n",
       "    }\n",
       "\n",
       "    .dataframe thead th {\n",
       "        text-align: right;\n",
       "    }\n",
       "</style>\n",
       "<table border=\"1\" class=\"dataframe\">\n",
       "  <thead>\n",
       "    <tr style=\"text-align: right;\">\n",
       "      <th></th>\n",
       "      <th>index_x</th>\n",
       "      <th>year_x</th>\n",
       "      <th>state</th>\n",
       "      <th>Metro</th>\n",
       "      <th>Month</th>\n",
       "      <th>ZRI</th>\n",
       "      <th>occupation_management_arts</th>\n",
       "      <th>num_return_w_ordinary_dividends</th>\n",
       "      <th>no_car</th>\n",
       "      <th>ZRI_1yr_ago</th>\n",
       "      <th>high_income</th>\n",
       "      <th>avg_income</th>\n",
       "      <th>num_return_w_qualify_dividends</th>\n",
       "      <th>bachelors_degree</th>\n",
       "      <th>num_retur_w_state_local_tax</th>\n",
       "      <th>paid_prep</th>\n",
       "      <th>taxable_intrest_amt</th>\n",
       "      <th>median_year_structure_built</th>\n",
       "      <th>white_pop</th>\n",
       "      <th>bachelors_degree_or_higher_25_64</th>\n",
       "      <th>housing_units</th>\n",
       "      <th>tot_income_amt</th>\n",
       "      <th>housing_units_renter_occupied</th>\n",
       "      <th>adj_gross_income</th>\n",
       "      <th>aggregate_travel_time_to_work</th>\n",
       "      <th>owner_occupied_housing_units_median_value</th>\n",
       "      <th>dwellings_2_units</th>\n",
       "    </tr>\n",
       "  </thead>\n",
       "  <tbody>\n",
       "    <tr>\n",
       "      <th>0</th>\n",
       "      <td>2019-10025</td>\n",
       "      <td>2017</td>\n",
       "      <td>NY</td>\n",
       "      <td>New York-Newark-Jersey City</td>\n",
       "      <td>12</td>\n",
       "      <td>8.251925</td>\n",
       "      <td>0.355237</td>\n",
       "      <td>0.390584</td>\n",
       "      <td>0.32912</td>\n",
       "      <td>8.113307</td>\n",
       "      <td>0.341325</td>\n",
       "      <td>0.744895</td>\n",
       "      <td>0.372493</td>\n",
       "      <td>0.22713</td>\n",
       "      <td>0.448561</td>\n",
       "      <td>0.63252</td>\n",
       "      <td>0.43592</td>\n",
       "      <td>-1.882828</td>\n",
       "      <td>0.540569</td>\n",
       "      <td>0.4126</td>\n",
       "      <td>4.958571</td>\n",
       "      <td>5.661359</td>\n",
       "      <td>0.629458</td>\n",
       "      <td>5.623152</td>\n",
       "      <td>0.289158</td>\n",
       "      <td>2.609643</td>\n",
       "      <td>0.003655</td>\n",
       "    </tr>\n",
       "  </tbody>\n",
       "</table>\n",
       "</div>"
      ],
      "text/plain": [
       "      index_x  year_x state                        Metro  Month       ZRI  \\\n",
       "0  2019-10025    2017    NY  New York-Newark-Jersey City     12  8.251925   \n",
       "\n",
       "   occupation_management_arts  num_return_w_ordinary_dividends   no_car  \\\n",
       "0                    0.355237                         0.390584  0.32912   \n",
       "\n",
       "   ZRI_1yr_ago  high_income  avg_income  num_return_w_qualify_dividends  \\\n",
       "0     8.113307     0.341325    0.744895                        0.372493   \n",
       "\n",
       "   bachelors_degree  num_retur_w_state_local_tax  paid_prep  \\\n",
       "0           0.22713                     0.448561    0.63252   \n",
       "\n",
       "   taxable_intrest_amt  median_year_structure_built  white_pop  \\\n",
       "0              0.43592                    -1.882828   0.540569   \n",
       "\n",
       "   bachelors_degree_or_higher_25_64  housing_units  tot_income_amt  \\\n",
       "0                            0.4126       4.958571        5.661359   \n",
       "\n",
       "   housing_units_renter_occupied  adj_gross_income  \\\n",
       "0                       0.629458          5.623152   \n",
       "\n",
       "   aggregate_travel_time_to_work  owner_occupied_housing_units_median_value  \\\n",
       "0                       0.289158                                   2.609643   \n",
       "\n",
       "   dwellings_2_units  \n",
       "0           0.003655  "
      ]
     },
     "execution_count": 11,
     "metadata": {},
     "output_type": "execute_result"
    }
   ],
   "source": [
    "full.head(1)"
   ]
  },
  {
   "cell_type": "code",
   "execution_count": 14,
   "metadata": {},
   "outputs": [],
   "source": [
    "dummy_test = full.loc[full['year_x']==2017][['ZRI_1yr_ago','Metro','Month']]\n",
    "dummy_train = full.loc[full['year_x']!=2017][['ZRI_1yr_ago','Metro','Month']]"
   ]
  },
  {
   "cell_type": "code",
   "execution_count": 15,
   "metadata": {},
   "outputs": [],
   "source": [
    "def dummify_df(df,dummy_cols):\n",
    "\n",
    "    df2 = df.copy()\n",
    "    for col in dummy_cols:\n",
    "        col_df = pd.get_dummies(df2[col].astype(object),prefix=col, prefix_sep='_').drop(col+'_'+str(df2[col].mode()[0]),axis=1)\n",
    "        df2 = pd.concat([df2, col_df], join='inner',axis=1)\n",
    "        df2.drop(col, axis=1, inplace=True)\n",
    "    \n",
    "    return df2"
   ]
  },
  {
   "cell_type": "code",
   "execution_count": 17,
   "metadata": {},
   "outputs": [],
   "source": [
    "dummy_test_d = dummify_df(dummy_test,['Month','Metro'])\n",
    "dummy_train_d = dummify_df(dummy_train,['Month','Metro'])"
   ]
  },
  {
   "cell_type": "code",
   "execution_count": 20,
   "metadata": {},
   "outputs": [
    {
     "data": {
      "text/plain": [
       "0.9887925710090733"
      ]
     },
     "execution_count": 20,
     "metadata": {},
     "output_type": "execute_result"
    }
   ],
   "source": [
    "from sklearn.linear_model import LinearRegression\n",
    "lm = LinearRegression()\n",
    "lm.fit(dummy_train_d, y_zri_train)\n",
    "lm.score(dummy_train_d, y_zri_train)"
   ]
  },
  {
   "cell_type": "code",
   "execution_count": 21,
   "metadata": {},
   "outputs": [
    {
     "data": {
      "text/plain": [
       "0.9849799410657645"
      ]
     },
     "execution_count": 21,
     "metadata": {},
     "output_type": "execute_result"
    }
   ],
   "source": [
    "lm.score(dummy_test_d, y_zri_test)"
   ]
  },
  {
   "cell_type": "code",
   "execution_count": 22,
   "metadata": {},
   "outputs": [
    {
     "data": {
      "text/plain": [
       "<matplotlib.axes._subplots.AxesSubplot at 0x17f3166c460>"
      ]
     },
     "execution_count": 22,
     "metadata": {},
     "output_type": "execute_result"
    },
    {
     "data": {
      "image/png": "[encoded data removed]",
      "text/plain": [
       "<Figure size 432x288 with 1 Axes>"
      ]
     },
     "metadata": {
      "needs_background": "light"
     },
     "output_type": "display_data"
    }
   ],
   "source": [
    "(lm.predict(dummy_train_d) - y_zri_train).hist()"
   ]
  },
  {
   "cell_type": "code",
   "execution_count": 23,
   "metadata": {
    "scrolled": false
   },
   "outputs": [
    {
     "name": "stdout",
     "output_type": "stream",
     "text": [
      "                            OLS Regression Results                            \n",
      "==============================================================================\n",
      "Dep. Variable:                    ZRI   R-squared:                       0.989\n",
      "Model:                            OLS   Adj. R-squared:                  0.989\n",
      "Method:                 Least Squares   F-statistic:                 3.461e+05\n",
      "Date:                Thu, 17 Dec 2020   Prob (F-statistic):               0.00\n",
      "Time:                        14:05:36   Log-Likelihood:             1.5119e+05\n",
      "No. Observations:               78468   AIC:                        -3.023e+05\n",
      "Df Residuals:                   78447   BIC:                        -3.021e+05\n",
      "Df Model:                          20                                         \n",
      "Covariance Type:            nonrobust                                         \n",
      "==========================================================================================================\n",
      "                                             coef    std err          t      P>|t|      [0.025      0.975]\n",
      "----------------------------------------------------------------------------------------------------------\n",
      "const                                      0.4591      0.005     98.950      0.000       0.450       0.468\n",
      "ZRI_1yr_ago                                0.9437      0.001   1570.731      0.000       0.943       0.945\n",
      "Month_2                                   -0.0009      0.001     -1.488      0.137      -0.002       0.000\n",
      "Month_3                                   -0.0017      0.001     -2.740      0.006      -0.003      -0.000\n",
      "Month_4                                   -0.0026      0.001     -4.172      0.000      -0.004      -0.001\n",
      "Month_5                                   -0.0033      0.001     -5.382      0.000      -0.005      -0.002\n",
      "Month_6                                   -0.0039      0.001     -6.399      0.000      -0.005      -0.003\n",
      "Month_7                                   -0.0050      0.001     -8.050      0.000      -0.006      -0.004\n",
      "Month_8                                   -0.0060      0.001     -9.799      0.000      -0.007      -0.005\n",
      "Month_9                                   -0.0069      0.001    -11.204      0.000      -0.008      -0.006\n",
      "Month_10                                  -0.0073      0.001    -11.886      0.000      -0.009      -0.006\n",
      "Month_11                                  -0.0073      0.001    -11.765      0.000      -0.008      -0.006\n",
      "Month_12                                  -0.0076      0.001    -12.278      0.000      -0.009      -0.006\n",
      "Metro_Atlanta-Sandy Springs-Roswell       -0.0204      0.001    -31.901      0.000      -0.022      -0.019\n",
      "Metro_Chicago-Naperville-Elgin            -0.0349      0.001    -67.939      0.000      -0.036      -0.034\n",
      "Metro_Dallas-Fort Worth-Arlington         -0.0192      0.001    -32.986      0.000      -0.020      -0.018\n",
      "Metro_Detroit-Warren-Dearborn             -0.0376      0.001    -57.690      0.000      -0.039      -0.036\n",
      "Metro_Houston-The Woodlands-Sugar Land    -0.0485      0.001    -82.192      0.000      -0.050      -0.047\n",
      "Metro_Los Angeles-Long Beach-Anaheim       0.0069      0.000     15.218      0.000       0.006       0.008\n",
      "Metro_Philadelphia-Camden-Wilmington      -0.0314      0.001    -54.015      0.000      -0.033      -0.030\n",
      "Metro_Washington-Arlington-Alexandria     -0.0232      0.001    -46.002      0.000      -0.024      -0.022\n",
      "==============================================================================\n",
      "Omnibus:                     8556.319   Durbin-Watson:                   0.256\n",
      "Prob(Omnibus):                  0.000   Jarque-Bera (JB):            62901.161\n",
      "Skew:                          -0.260   Prob(JB):                         0.00\n",
      "Kurtosis:                       7.355   Cond. No.                         283.\n",
      "==============================================================================\n",
      "\n",
      "Warnings:\n",
      "[1] Standard Errors assume that the covariance matrix of the errors is correctly specified.\n"
     ]
    }
   ],
   "source": [
    "import statsmodels.api as sm\n",
    "x = sm.add_constant(dummy_train_d)\n",
    "model = sm.OLS(y_zri_train, x)\n",
    "results = model.fit()\n",
    "print(results.summary()) "
   ]
  },
  {
   "cell_type": "markdown",
   "metadata": {},
   "source": [
    "### Multiple Linear Model with all lasso selected features"
   ]
  },
  {
   "cell_type": "code",
   "execution_count": 24,
   "metadata": {},
   "outputs": [],
   "source": [
    "selected = pd.read_csv('./model_data.csv')"
   ]
  },
  {
   "cell_type": "code",
   "execution_count": 26,
   "metadata": {},
   "outputs": [
    {
     "data": {
      "text/html": [
       "<div>\n",
       "<style scoped>\n",
       "    .dataframe tbody tr th:only-of-type {\n",
       "        vertical-align: middle;\n",
       "    }\n",
       "\n",
       "    .dataframe tbody tr th {\n",
       "        vertical-align: top;\n",
       "    }\n",
       "\n",
       "    .dataframe thead th {\n",
       "        text-align: right;\n",
       "    }\n",
       "</style>\n",
       "<table border=\"1\" class=\"dataframe\">\n",
       "  <thead>\n",
       "    <tr style=\"text-align: right;\">\n",
       "      <th></th>\n",
       "      <th>index_x</th>\n",
       "      <th>year_x</th>\n",
       "      <th>state</th>\n",
       "      <th>Metro</th>\n",
       "      <th>Month</th>\n",
       "      <th>ZRI</th>\n",
       "      <th>occupation_management_arts</th>\n",
       "      <th>num_return_w_ordinary_dividends</th>\n",
       "      <th>no_car</th>\n",
       "      <th>ZRI_1yr_ago</th>\n",
       "      <th>high_income</th>\n",
       "      <th>avg_income</th>\n",
       "      <th>num_return_w_qualify_dividends</th>\n",
       "      <th>bachelors_degree</th>\n",
       "      <th>num_retur_w_state_local_tax</th>\n",
       "      <th>paid_prep</th>\n",
       "      <th>taxable_intrest_amt</th>\n",
       "      <th>median_year_structure_built</th>\n",
       "      <th>white_pop</th>\n",
       "      <th>bachelors_degree_or_higher_25_64</th>\n",
       "      <th>housing_units</th>\n",
       "      <th>tot_income_amt</th>\n",
       "      <th>housing_units_renter_occupied</th>\n",
       "      <th>adj_gross_income</th>\n",
       "      <th>aggregate_travel_time_to_work</th>\n",
       "      <th>owner_occupied_housing_units_median_value</th>\n",
       "      <th>dwellings_2_units</th>\n",
       "    </tr>\n",
       "  </thead>\n",
       "  <tbody>\n",
       "    <tr>\n",
       "      <th>0</th>\n",
       "      <td>2019-10025</td>\n",
       "      <td>2017</td>\n",
       "      <td>NY</td>\n",
       "      <td>New York-Newark-Jersey City</td>\n",
       "      <td>12</td>\n",
       "      <td>8.251925</td>\n",
       "      <td>0.355237</td>\n",
       "      <td>0.390584</td>\n",
       "      <td>0.32912</td>\n",
       "      <td>8.113307</td>\n",
       "      <td>0.341325</td>\n",
       "      <td>0.744895</td>\n",
       "      <td>0.372493</td>\n",
       "      <td>0.22713</td>\n",
       "      <td>0.448561</td>\n",
       "      <td>0.63252</td>\n",
       "      <td>0.43592</td>\n",
       "      <td>-1.882828</td>\n",
       "      <td>0.540569</td>\n",
       "      <td>0.4126</td>\n",
       "      <td>4.958571</td>\n",
       "      <td>5.661359</td>\n",
       "      <td>0.629458</td>\n",
       "      <td>5.623152</td>\n",
       "      <td>0.289158</td>\n",
       "      <td>2.609643</td>\n",
       "      <td>0.003655</td>\n",
       "    </tr>\n",
       "  </tbody>\n",
       "</table>\n",
       "</div>"
      ],
      "text/plain": [
       "      index_x  year_x state                        Metro  Month       ZRI  \\\n",
       "0  2019-10025    2017    NY  New York-Newark-Jersey City     12  8.251925   \n",
       "\n",
       "   occupation_management_arts  num_return_w_ordinary_dividends   no_car  \\\n",
       "0                    0.355237                         0.390584  0.32912   \n",
       "\n",
       "   ZRI_1yr_ago  high_income  avg_income  num_return_w_qualify_dividends  \\\n",
       "0     8.113307     0.341325    0.744895                        0.372493   \n",
       "\n",
       "   bachelors_degree  num_retur_w_state_local_tax  paid_prep  \\\n",
       "0           0.22713                     0.448561    0.63252   \n",
       "\n",
       "   taxable_intrest_amt  median_year_structure_built  white_pop  \\\n",
       "0              0.43592                    -1.882828   0.540569   \n",
       "\n",
       "   bachelors_degree_or_higher_25_64  housing_units  tot_income_amt  \\\n",
       "0                            0.4126       4.958571        5.661359   \n",
       "\n",
       "   housing_units_renter_occupied  adj_gross_income  \\\n",
       "0                       0.629458          5.623152   \n",
       "\n",
       "   aggregate_travel_time_to_work  owner_occupied_housing_units_median_value  \\\n",
       "0                       0.289158                                   2.609643   \n",
       "\n",
       "   dwellings_2_units  \n",
       "0           0.003655  "
      ]
     },
     "execution_count": 26,
     "metadata": {},
     "output_type": "execute_result"
    }
   ],
   "source": [
    "selected.head(1)"
   ]
  },
  {
   "cell_type": "code",
   "execution_count": 28,
   "metadata": {},
   "outputs": [],
   "source": [
    "select_test_X = selected.loc[selected['year_x']== 2017,].iloc[:,6:]\n",
    "select_train_X = selected.loc[selected['year_x']!= 2017,].iloc[:,6:]"
   ]
  },
  {
   "cell_type": "code",
   "execution_count": 30,
   "metadata": {},
   "outputs": [],
   "source": [
    "select_test_y = selected.loc[selected['year_x']== 2017,]['ZRI']\n",
    "select_train_y = selected.loc[selected['year_x']!= 2017,]['ZRI']"
   ]
  },
  {
   "cell_type": "code",
   "execution_count": 31,
   "metadata": {},
   "outputs": [
    {
     "data": {
      "text/plain": [
       "0.9883326472679272"
      ]
     },
     "execution_count": 31,
     "metadata": {},
     "output_type": "execute_result"
    }
   ],
   "source": [
    "from sklearn.linear_model import LinearRegression\n",
    "lm = LinearRegression()\n",
    "lm.fit(select_train_X, select_train_y)\n",
    "lm.score(select_train_X, select_train_y)"
   ]
  },
  {
   "cell_type": "code",
   "execution_count": 32,
   "metadata": {},
   "outputs": [
    {
     "data": {
      "text/plain": [
       "0.9852784690275831"
      ]
     },
     "execution_count": 32,
     "metadata": {},
     "output_type": "execute_result"
    }
   ],
   "source": [
    "lm.score(select_test_X, select_test_y)"
   ]
  },
  {
   "cell_type": "code",
   "execution_count": 33,
   "metadata": {},
   "outputs": [
    {
     "name": "stdout",
     "output_type": "stream",
     "text": [
      "                            OLS Regression Results                            \n",
      "==============================================================================\n",
      "Dep. Variable:                    ZRI   R-squared:                       0.988\n",
      "Model:                            OLS   Adj. R-squared:                  0.988\n",
      "Method:                 Least Squares   F-statistic:                 3.164e+05\n",
      "Date:                Thu, 17 Dec 2020   Prob (F-statistic):               0.00\n",
      "Time:                        14:13:00   Log-Likelihood:             1.4962e+05\n",
      "No. Observations:               78468   AIC:                        -2.992e+05\n",
      "Df Residuals:                   78446   BIC:                        -2.990e+05\n",
      "Df Model:                          21                                         \n",
      "Covariance Type:            nonrobust                                         \n",
      "=============================================================================================================\n",
      "                                                coef    std err          t      P>|t|      [0.025      0.975]\n",
      "-------------------------------------------------------------------------------------------------------------\n",
      "const                                         0.4491      0.006     71.992      0.000       0.437       0.461\n",
      "occupation_management_arts                   -0.0030      0.007     -0.411      0.681      -0.018       0.011\n",
      "num_return_w_ordinary_dividends               0.2266      0.044      5.176      0.000       0.141       0.312\n",
      "no_car                                       -0.0439      0.003    -15.448      0.000      -0.049      -0.038\n",
      "ZRI_1yr_ago                                   0.9345      0.001   1028.244      0.000       0.933       0.936\n",
      "high_income                                  -0.0479      0.004    -10.975      0.000      -0.057      -0.039\n",
      "avg_income                                    0.0014      0.000      3.778      0.000       0.001       0.002\n",
      "num_return_w_qualify_dividends               -0.3678      0.044     -8.271      0.000      -0.455      -0.281\n",
      "bachelors_degree                             -0.0351      0.007     -5.056      0.000      -0.049      -0.022\n",
      "num_retur_w_state_local_tax                  -0.0001      0.001     -0.114      0.909      -0.003       0.002\n",
      "paid_prep                                     0.0643      0.002     28.683      0.000       0.060       0.069\n",
      "taxable_intrest_amt                           0.1614      0.004     37.441      0.000       0.153       0.170\n",
      "median_year_structure_built                   0.0033      0.000     16.208      0.000       0.003       0.004\n",
      "white_pop                                    -0.0153      0.001    -18.109      0.000      -0.017      -0.014\n",
      "bachelors_degree_or_higher_25_64              0.0637      0.008      8.368      0.000       0.049       0.079\n",
      "housing_units                                 0.0019      0.000      7.644      0.000       0.001       0.002\n",
      "tot_income_amt                                0.1362      0.031      4.428      0.000       0.076       0.196\n",
      "housing_units_renter_occupied                 0.0191      0.001     13.063      0.000       0.016       0.022\n",
      "adj_gross_income                             -0.1384      0.031     -4.499      0.000      -0.199      -0.078\n",
      "aggregate_travel_time_to_work                 0.0012      0.000      6.506      0.000       0.001       0.002\n",
      "owner_occupied_housing_units_median_value     0.0098      0.000     25.298      0.000       0.009       0.011\n",
      "dwellings_2_units                            -0.0028      0.003     -1.032      0.302      -0.008       0.003\n",
      "==============================================================================\n",
      "Omnibus:                     6262.687   Durbin-Watson:                   0.258\n",
      "Prob(Omnibus):                  0.000   Jarque-Bera (JB):            38394.624\n",
      "Skew:                          -0.020   Prob(JB):                         0.00\n",
      "Kurtosis:                       6.427   Cond. No.                     3.68e+03\n",
      "==============================================================================\n",
      "\n",
      "Warnings:\n",
      "[1] Standard Errors assume that the covariance matrix of the errors is correctly specified.\n",
      "[2] The condition number is large, 3.68e+03. This might indicate that there are\n",
      "strong multicollinearity or other numerical problems.\n"
     ]
    }
   ],
   "source": [
    "import statsmodels.api as sm\n",
    "x = sm.add_constant(select_train_X)\n",
    "model = sm.OLS(select_train_y, x)\n",
    "results = model.fit()\n",
    "print(results.summary()) "
   ]
  },
  {
   "cell_type": "markdown",
   "metadata": {},
   "source": [
    "### Multiple Linear Model with reduced lasso selected features"
   ]
  },
  {
   "cell_type": "code",
   "execution_count": 43,
   "metadata": {},
   "outputs": [],
   "source": [
    "reduced = ['dwellings_2_units','bachelors_degree','bachelors_degree_or_higher_25_64','occupation_management_arts']"
   ]
  },
  {
   "cell_type": "code",
   "execution_count": 44,
   "metadata": {},
   "outputs": [],
   "source": [
    "selected2 = selected.drop(reduced,axis=1)"
   ]
  },
  {
   "cell_type": "code",
   "execution_count": 45,
   "metadata": {},
   "outputs": [],
   "source": [
    "select_test_X2 = selected2.loc[selected2['year_x']== 2017,].iloc[:,6:]\n",
    "select_train_X2 = selected2.loc[selected2['year_x']!= 2017,].iloc[:,6:]\n",
    "select_test_y2 = selected2.loc[selected2['year_x']== 2017,]['ZRI']\n",
    "select_train_y2 = selected2.loc[selected2['year_x']!= 2017,]['ZRI']"
   ]
  },
  {
   "cell_type": "code",
   "execution_count": 46,
   "metadata": {},
   "outputs": [
    {
     "data": {
      "text/plain": [
       "0.9882959081958729"
      ]
     },
     "execution_count": 46,
     "metadata": {},
     "output_type": "execute_result"
    }
   ],
   "source": [
    "from sklearn.linear_model import LinearRegression\n",
    "lm = LinearRegression()\n",
    "lm.fit(select_train_X2, select_train_y2)\n",
    "lm.score(select_train_X2, select_train_y2)"
   ]
  },
  {
   "cell_type": "code",
   "execution_count": 47,
   "metadata": {},
   "outputs": [
    {
     "data": {
      "text/plain": [
       "0.9852525455539988"
      ]
     },
     "execution_count": 47,
     "metadata": {},
     "output_type": "execute_result"
    }
   ],
   "source": [
    "lm.score(select_test_X2, select_test_y2)"
   ]
  },
  {
   "cell_type": "code",
   "execution_count": 48,
   "metadata": {},
   "outputs": [
    {
     "name": "stdout",
     "output_type": "stream",
     "text": [
      "                            OLS Regression Results                            \n",
      "==============================================================================\n",
      "Dep. Variable:                    ZRI   R-squared:                       0.988\n",
      "Model:                            OLS   Adj. R-squared:                  0.988\n",
      "Method:                 Least Squares   F-statistic:                 3.897e+05\n",
      "Date:                Thu, 17 Dec 2020   Prob (F-statistic):               0.00\n",
      "Time:                        14:24:05   Log-Likelihood:             1.4949e+05\n",
      "No. Observations:               78468   AIC:                        -2.989e+05\n",
      "Df Residuals:                   78450   BIC:                        -2.988e+05\n",
      "Df Model:                          17                                         \n",
      "Covariance Type:            nonrobust                                         \n",
      "=============================================================================================================\n",
      "                                                coef    std err          t      P>|t|      [0.025      0.975]\n",
      "-------------------------------------------------------------------------------------------------------------\n",
      "const                                         0.4518      0.006     75.071      0.000       0.440       0.464\n",
      "num_return_w_ordinary_dividends               0.2261      0.042      5.324      0.000       0.143       0.309\n",
      "no_car                                       -0.0369      0.003    -13.287      0.000      -0.042      -0.031\n",
      "ZRI_1yr_ago                                   0.9345      0.001   1077.828      0.000       0.933       0.936\n",
      "high_income                                  -0.0307      0.004     -7.254      0.000      -0.039      -0.022\n",
      "avg_income                                    0.0010      0.000      2.839      0.005       0.000       0.002\n",
      "num_return_w_qualify_dividends               -0.3460      0.043     -7.986      0.000      -0.431      -0.261\n",
      "num_retur_w_state_local_tax                   0.0032      0.001      2.652      0.008       0.001       0.006\n",
      "paid_prep                                     0.0526      0.002     27.447      0.000       0.049       0.056\n",
      "taxable_intrest_amt                           0.1629      0.004     38.554      0.000       0.155       0.171\n",
      "median_year_structure_built                   0.0033      0.000     17.218      0.000       0.003       0.004\n",
      "white_pop                                    -0.0186      0.001    -23.311      0.000      -0.020      -0.017\n",
      "housing_units                                 0.0017      0.000      6.650      0.000       0.001       0.002\n",
      "tot_income_amt                                0.1715      0.030      5.660      0.000       0.112       0.231\n",
      "housing_units_renter_occupied                 0.0290      0.001     22.283      0.000       0.026       0.032\n",
      "adj_gross_income                             -0.1733      0.030     -5.717      0.000      -0.233      -0.114\n",
      "aggregate_travel_time_to_work                 0.0017      0.000      9.965      0.000       0.001       0.002\n",
      "owner_occupied_housing_units_median_value     0.0094      0.000     24.893      0.000       0.009       0.010\n",
      "==============================================================================\n",
      "Omnibus:                     6284.480   Durbin-Watson:                   0.257\n",
      "Prob(Omnibus):                  0.000   Jarque-Bera (JB):            38526.444\n",
      "Skew:                          -0.037   Prob(JB):                         0.00\n",
      "Kurtosis:                       6.432   Cond. No.                     3.57e+03\n",
      "==============================================================================\n",
      "\n",
      "Warnings:\n",
      "[1] Standard Errors assume that the covariance matrix of the errors is correctly specified.\n",
      "[2] The condition number is large, 3.57e+03. This might indicate that there are\n",
      "strong multicollinearity or other numerical problems.\n"
     ]
    }
   ],
   "source": [
    "import statsmodels.api as sm\n",
    "x = sm.add_constant(select_train_X2)\n",
    "model = sm.OLS(select_train_y2, x)\n",
    "results = model.fit()\n",
    "print(results.summary()) "
   ]
  },
  {
   "cell_type": "markdown",
   "metadata": {},
   "source": [
    "### ACS + IRS only Multiple Linear Model"
   ]
  },
  {
   "cell_type": "code",
   "execution_count": 67,
   "metadata": {},
   "outputs": [],
   "source": [
    "selected3 = selected.drop('ZRI_1yr_ago',axis=1)"
   ]
  },
  {
   "cell_type": "code",
   "execution_count": 68,
   "metadata": {},
   "outputs": [],
   "source": [
    "select_test_X3 = selected3.loc[selected3['year_x']== 2017,].iloc[:,6:]\n",
    "select_train_X3 = selected3.loc[selected3['year_x']!= 2017,].iloc[:,6:]\n",
    "select_test_y3 = selected3.loc[selected3['year_x']== 2017,]['ZRI']\n",
    "select_train_y3 = selected3.loc[selected3['year_x']!= 2017,]['ZRI']"
   ]
  },
  {
   "cell_type": "code",
   "execution_count": 70,
   "metadata": {},
   "outputs": [
    {
     "data": {
      "text/plain": [
       "0.8310815451912563"
      ]
     },
     "execution_count": 70,
     "metadata": {},
     "output_type": "execute_result"
    }
   ],
   "source": [
    "from sklearn.linear_model import LinearRegression\n",
    "lm = LinearRegression()\n",
    "lm.fit(select_train_X3, select_train_y3)\n",
    "lm.score(select_train_X3, select_train_y3)"
   ]
  },
  {
   "cell_type": "code",
   "execution_count": 71,
   "metadata": {},
   "outputs": [
    {
     "data": {
      "text/plain": [
       "0.8349233473113957"
      ]
     },
     "execution_count": 71,
     "metadata": {},
     "output_type": "execute_result"
    }
   ],
   "source": [
    "lm.score(select_test_X3, select_test_y3)"
   ]
  },
  {
   "cell_type": "code",
   "execution_count": 72,
   "metadata": {},
   "outputs": [
    {
     "name": "stdout",
     "output_type": "stream",
     "text": [
      "                            OLS Regression Results                            \n",
      "==============================================================================\n",
      "Dep. Variable:                    ZRI   R-squared:                       0.831\n",
      "Model:                            OLS   Adj. R-squared:                  0.831\n",
      "Method:                 Least Squares   F-statistic:                 1.930e+04\n",
      "Date:                Thu, 17 Dec 2020   Prob (F-statistic):               0.00\n",
      "Time:                        14:39:02   Log-Likelihood:                 44757.\n",
      "No. Observations:               78468   AIC:                        -8.947e+04\n",
      "Df Residuals:                   78447   BIC:                        -8.928e+04\n",
      "Df Model:                          20                                         \n",
      "Covariance Type:            nonrobust                                         \n",
      "=============================================================================================================\n",
      "                                                coef    std err          t      P>|t|      [0.025      0.975]\n",
      "-------------------------------------------------------------------------------------------------------------\n",
      "const                                         6.6313      0.006   1049.298      0.000       6.619       6.644\n",
      "occupation_management_arts                    1.1114      0.028     39.839      0.000       1.057       1.166\n",
      "num_return_w_ordinary_dividends              -0.3315      0.167     -1.990      0.047      -0.658      -0.005\n",
      "no_car                                        0.2454      0.011     22.797      0.000       0.224       0.266\n",
      "high_income                                   0.8960      0.016     55.133      0.000       0.864       0.928\n",
      "avg_income                                   -0.0607      0.001    -44.938      0.000      -0.063      -0.058\n",
      "num_return_w_qualify_dividends               -0.7399      0.169     -4.374      0.000      -1.072      -0.408\n",
      "bachelors_degree                              1.1246      0.026     43.137      0.000       1.073       1.176\n",
      "num_retur_w_state_local_tax                  -0.0354      0.005     -7.402      0.000      -0.045      -0.026\n",
      "paid_prep                                     0.8015      0.008     99.173      0.000       0.786       0.817\n",
      "taxable_intrest_amt                           0.8400      0.016     51.833      0.000       0.808       0.872\n",
      "median_year_structure_built                  -0.0057      0.001     -7.300      0.000      -0.007      -0.004\n",
      "white_pop                                    -0.1681      0.003    -52.987      0.000      -0.174      -0.162\n",
      "bachelors_degree_or_higher_25_64             -1.2572      0.029    -44.061      0.000      -1.313      -1.201\n",
      "housing_units                                -0.0292      0.001    -30.311      0.000      -0.031      -0.027\n",
      "tot_income_amt                               -2.3239      0.117    -19.918      0.000      -2.553      -2.095\n",
      "housing_units_renter_occupied                 0.3074      0.005     56.332      0.000       0.297       0.318\n",
      "adj_gross_income                              2.3546      0.117     20.180      0.000       2.126       2.583\n",
      "aggregate_travel_time_to_work                 0.0264      0.001     39.140      0.000       0.025       0.028\n",
      "owner_occupied_housing_units_median_value     0.1986      0.001    153.857      0.000       0.196       0.201\n",
      "dwellings_2_units                            -0.5639      0.010    -54.863      0.000      -0.584      -0.544\n",
      "==============================================================================\n",
      "Omnibus:                      720.716   Durbin-Watson:                   0.176\n",
      "Prob(Omnibus):                  0.000   Jarque-Bera (JB):             1047.897\n",
      "Skew:                          -0.106   Prob(JB):                    2.83e-228\n",
      "Kurtosis:                       3.525   Cond. No.                         878.\n",
      "==============================================================================\n",
      "\n",
      "Warnings:\n",
      "[1] Standard Errors assume that the covariance matrix of the errors is correctly specified.\n"
     ]
    }
   ],
   "source": [
    "import statsmodels.api as sm\n",
    "x = sm.add_constant(select_train_X3)\n",
    "model = sm.OLS(select_train_y3, x)\n",
    "results = model.fit()\n",
    "print(results.summary()) "
   ]
  },
  {
   "cell_type": "markdown",
   "metadata": {},
   "source": [
    "### ACS + IRS only Multiple Linear Model with reduced features"
   ]
  },
  {
   "cell_type": "code",
   "execution_count": 73,
   "metadata": {},
   "outputs": [],
   "source": [
    "selected4 = selected2.drop('ZRI_1yr_ago',axis=1)"
   ]
  },
  {
   "cell_type": "code",
   "execution_count": 74,
   "metadata": {},
   "outputs": [],
   "source": [
    "select_test_X4 = selected4.loc[selected4['year_x']== 2017,].iloc[:,6:]\n",
    "select_train_X4 = selected4.loc[selected4['year_x']!= 2017,].iloc[:,6:]\n",
    "select_test_y4 = selected4.loc[selected4['year_x']== 2017,]['ZRI']\n",
    "select_train_y4 = selected4.loc[selected4['year_x']!= 2017,]['ZRI']"
   ]
  },
  {
   "cell_type": "code",
   "execution_count": 75,
   "metadata": {},
   "outputs": [
    {
     "data": {
      "text/plain": [
       "0.8149777934836113"
      ]
     },
     "execution_count": 75,
     "metadata": {},
     "output_type": "execute_result"
    }
   ],
   "source": [
    "from sklearn.linear_model import LinearRegression\n",
    "lm = LinearRegression()\n",
    "lm.fit(select_train_X4, select_train_y4)\n",
    "lm.score(select_train_X4, select_train_y4)"
   ]
  },
  {
   "cell_type": "code",
   "execution_count": 76,
   "metadata": {},
   "outputs": [
    {
     "data": {
      "text/plain": [
       "0.8267969818586844"
      ]
     },
     "execution_count": 76,
     "metadata": {},
     "output_type": "execute_result"
    }
   ],
   "source": [
    "lm.score(select_test_X4, select_test_y4)"
   ]
  },
  {
   "cell_type": "code",
   "execution_count": 77,
   "metadata": {},
   "outputs": [
    {
     "name": "stdout",
     "output_type": "stream",
     "text": [
      "                            OLS Regression Results                            \n",
      "==============================================================================\n",
      "Dep. Variable:                    ZRI   R-squared:                       0.815\n",
      "Model:                            OLS   Adj. R-squared:                  0.815\n",
      "Method:                 Least Squares   F-statistic:                 2.160e+04\n",
      "Date:                Thu, 17 Dec 2020   Prob (F-statistic):               0.00\n",
      "Time:                        14:41:34   Log-Likelihood:                 41185.\n",
      "No. Observations:               78468   AIC:                        -8.234e+04\n",
      "Df Residuals:                   78451   BIC:                        -8.218e+04\n",
      "Df Model:                          16                                         \n",
      "Covariance Type:            nonrobust                                         \n",
      "=============================================================================================================\n",
      "                                                coef    std err          t      P>|t|      [0.025      0.975]\n",
      "-------------------------------------------------------------------------------------------------------------\n",
      "const                                         6.7367      0.006   1137.227      0.000       6.725       6.748\n",
      "num_return_w_ordinary_dividends               1.2972      0.169      7.687      0.000       0.966       1.628\n",
      "no_car                                        0.1749      0.011     15.892      0.000       0.153       0.196\n",
      "high_income                                   0.9744      0.016     59.406      0.000       0.942       1.007\n",
      "avg_income                                   -0.0652      0.001    -46.538      0.000      -0.068      -0.062\n",
      "num_return_w_qualify_dividends               -2.4740      0.172    -14.376      0.000      -2.811      -2.137\n",
      "num_retur_w_state_local_tax                  -0.0432      0.005     -8.928      0.000      -0.053      -0.034\n",
      "paid_prep                                     0.6300      0.007     86.096      0.000       0.616       0.644\n",
      "taxable_intrest_amt                           0.9884      0.017     59.813      0.000       0.956       1.021\n",
      "median_year_structure_built                   0.0163      0.001     21.764      0.000       0.015       0.018\n",
      "white_pop                                    -0.1465      0.003    -46.658      0.000      -0.153      -0.140\n",
      "housing_units                                -0.0367      0.001    -36.887      0.000      -0.039      -0.035\n",
      "tot_income_amt                               -2.2915      0.120    -19.073      0.000      -2.527      -2.056\n",
      "housing_units_renter_occupied                 0.3851      0.005     77.039      0.000       0.375       0.395\n",
      "adj_gross_income                              2.3316      0.120     19.403      0.000       2.096       2.567\n",
      "aggregate_travel_time_to_work                 0.0238      0.001     36.152      0.000       0.023       0.025\n",
      "owner_occupied_housing_units_median_value     0.2039      0.001    154.536      0.000       0.201       0.207\n",
      "==============================================================================\n",
      "Omnibus:                     1086.745   Durbin-Watson:                   0.173\n",
      "Prob(Omnibus):                  0.000   Jarque-Bera (JB):             1709.536\n",
      "Skew:                          -0.138   Prob(JB):                         0.00\n",
      "Kurtosis:                       3.669   Cond. No.                         849.\n",
      "==============================================================================\n",
      "\n",
      "Warnings:\n",
      "[1] Standard Errors assume that the covariance matrix of the errors is correctly specified.\n"
     ]
    }
   ],
   "source": [
    "import statsmodels.api as sm\n",
    "x = sm.add_constant(select_train_X4)\n",
    "model = sm.OLS(select_train_y4, x)\n",
    "results = model.fit()\n",
    "print(results.summary()) "
   ]
  },
  {
   "cell_type": "code",
   "execution_count": null,
   "metadata": {},
   "outputs": [],
   "source": []
  }
 ],
 "metadata": {
  "kernelspec": {
   "display_name": "Python 3",
   "language": "python",
   "name": "python3"
  },
  "language_info": {
   "codemirror_mode": {
    "name": "ipython",
    "version": 3
   },
   "file_extension": ".py",
   "mimetype": "text/x-python",
   "name": "python",
   "nbconvert_exporter": "python",
   "pygments_lexer": "ipython3",
   "version": "3.8.3"
  }
 },
 "nbformat": 4,
 "nbformat_minor": 4
}
