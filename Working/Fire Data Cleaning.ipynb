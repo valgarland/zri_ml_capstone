{
 "cells": [
  {
   "cell_type": "markdown",
   "metadata": {},
   "source": [
    "# Fire Data Cleaning & Exploration"
   ]
  },
  {
   "cell_type": "markdown",
   "metadata": {},
   "source": [
    "## Importing Required Libraries"
   ]
  },
  {
   "cell_type": "code",
   "execution_count": 5,
   "metadata": {},
   "outputs": [],
   "source": [
    "import numpy as np\n",
    "import pandas as pd\n",
    "\n",
    "pd.set_option('display.max_columns', 150)\n",
    "pd.set_option('display.max_rows', 150)"
   ]
  },
  {
   "cell_type": "markdown",
   "metadata": {},
   "source": [
    "*Data taken from: https://data-nifc.opendata.arcgis.com*"
   ]
  },
  {
   "cell_type": "code",
   "execution_count": 113,
   "metadata": {},
   "outputs": [],
   "source": [
    "NI_2018 = pd.read_csv('../Data/Fire Data/National_Incident_Feature_Service_2018.csv', low_memory = False)\n",
    "NI_2017 = pd.read_csv('../Data/Fire Data/National_Incident_Feature_Service_2017.csv', low_memory = False)\n",
    "geomac = pd.read_csv('../Data/Fire Data/Historic_GeoMAC_Perimeters_Combined_2000-2018.csv', low_memory = False)\n",
    "\n",
    "historical_totals = pd.read_csv('../Data/Fire Data/historical_totals.csv')\n",
    "historical_fires_total = pd.read_csv('../Data/Fire Data/historical_fires_burned_total.csv')\n",
    "historical_fires = pd.read_csv('../Data/Fire Data/historical_fires_burned.csv')\n",
    "historical_acres_total = pd.read_csv('../Data/Fire Data/historical_acres_burned_total.csv')\n",
    "historical_acres = pd.read_csv('../Data/Fire Data/historical_acres_burned.csv')"
   ]
  },
  {
   "cell_type": "code",
   "execution_count": 29,
   "metadata": {},
   "outputs": [
    {
     "data": {
      "text/html": [
       "<div>\n",
       "<style scoped>\n",
       "    .dataframe tbody tr th:only-of-type {\n",
       "        vertical-align: middle;\n",
       "    }\n",
       "\n",
       "    .dataframe tbody tr th {\n",
       "        vertical-align: top;\n",
       "    }\n",
       "\n",
       "    .dataframe thead th {\n",
       "        text-align: right;\n",
       "    }\n",
       "</style>\n",
       "<table border=\"1\" class=\"dataframe\">\n",
       "  <thead>\n",
       "    <tr style=\"text-align: right;\">\n",
       "      <th></th>\n",
       "      <th>FID</th>\n",
       "      <th>agency</th>\n",
       "      <th>comments</th>\n",
       "      <th>mapmethod</th>\n",
       "      <th>datecurrent</th>\n",
       "      <th>uniquefireidentifier</th>\n",
       "      <th>fireyear</th>\n",
       "      <th>incidentname</th>\n",
       "      <th>pooownerunit</th>\n",
       "      <th>perimeterdatetime</th>\n",
       "      <th>gisacres</th>\n",
       "      <th>complexname</th>\n",
       "      <th>firecode</th>\n",
       "      <th>complexparentirwinid</th>\n",
       "      <th>pooresponsibleunit</th>\n",
       "      <th>state</th>\n",
       "      <th>pooshort</th>\n",
       "      <th>inciwebid</th>\n",
       "      <th>localincidentidentifier</th>\n",
       "      <th>irwinid</th>\n",
       "      <th>irwinid_nb</th>\n",
       "      <th>incomplex</th>\n",
       "      <th>complexfirecode</th>\n",
       "      <th>SHAPE_Length</th>\n",
       "      <th>SHAPE_Area</th>\n",
       "    </tr>\n",
       "  </thead>\n",
       "  <tbody>\n",
       "    <tr>\n",
       "      <th>0</th>\n",
       "      <td>1</td>\n",
       "      <td>USFS</td>\n",
       "      <td>WFDSS</td>\n",
       "      <td>GPS-Walked/ Driven</td>\n",
       "      <td>2018-02-14 0:00</td>\n",
       "      <td>2018-AZCNF-000059</td>\n",
       "      <td>2018</td>\n",
       "      <td>BOX</td>\n",
       "      <td>AZCNF</td>\n",
       "      <td>2018-02-12 17:00</td>\n",
       "      <td>79.732397</td>\n",
       "      <td>NaN</td>\n",
       "      <td>LK58</td>\n",
       "      <td>NaN</td>\n",
       "      <td>AZCNF</td>\n",
       "      <td>AZ</td>\n",
       "      <td>CNF</td>\n",
       "      <td>NaN</td>\n",
       "      <td>59</td>\n",
       "      <td>{9A5CFD7A-5C05-40E6-A617-088B44A41174}</td>\n",
       "      <td>9A5CFD7A-5C05-40E6-A617-088B44A41174</td>\n",
       "      <td>N</td>\n",
       "      <td>NaN</td>\n",
       "      <td>0.025799</td>\n",
       "      <td>3.070000e-05</td>\n",
       "    </tr>\n",
       "    <tr>\n",
       "      <th>1</th>\n",
       "      <td>2</td>\n",
       "      <td>USFS</td>\n",
       "      <td>WFDSS</td>\n",
       "      <td>GPS-Walked/ Driven</td>\n",
       "      <td>2018-04-06 0:00</td>\n",
       "      <td>2018-AROUF-000688</td>\n",
       "      <td>2018</td>\n",
       "      <td>Zoe</td>\n",
       "      <td>AROUF</td>\n",
       "      <td>2018-04-05 0:00</td>\n",
       "      <td>0.201877</td>\n",
       "      <td>NaN</td>\n",
       "      <td>LMT8</td>\n",
       "      <td>NaN</td>\n",
       "      <td>AROUF</td>\n",
       "      <td>OK</td>\n",
       "      <td>OUF</td>\n",
       "      <td>NaN</td>\n",
       "      <td>688</td>\n",
       "      <td>{5AFC28D0-6193-4103-AE00-65F4E659CA55}</td>\n",
       "      <td>5AFC28D0-6193-4103-AE00-65F4E659CA55</td>\n",
       "      <td>N</td>\n",
       "      <td>NaN</td>\n",
       "      <td>0.001289</td>\n",
       "      <td>8.050000e-08</td>\n",
       "    </tr>\n",
       "    <tr>\n",
       "      <th>2</th>\n",
       "      <td>3</td>\n",
       "      <td>C&amp;L</td>\n",
       "      <td>WFDSS</td>\n",
       "      <td>Hand Sketch</td>\n",
       "      <td>2017-04-24 0:00</td>\n",
       "      <td>2017-CORBX-000061</td>\n",
       "      <td>2017</td>\n",
       "      <td>Milemarker 24</td>\n",
       "      <td>NaN</td>\n",
       "      <td>2017-04-21 0:00</td>\n",
       "      <td>82.996239</td>\n",
       "      <td>NaN</td>\n",
       "      <td>NaN</td>\n",
       "      <td>NaN</td>\n",
       "      <td>CORBX</td>\n",
       "      <td>CO</td>\n",
       "      <td>RBX</td>\n",
       "      <td>NaN</td>\n",
       "      <td>61</td>\n",
       "      <td>{9C1A9E10-8FA8-4166-A212-EAF39A860469}</td>\n",
       "      <td>9C1A9E10-8FA8-4166-A212-EAF39A860469</td>\n",
       "      <td>N</td>\n",
       "      <td>NaN</td>\n",
       "      <td>0.037537</td>\n",
       "      <td>3.540000e-05</td>\n",
       "    </tr>\n",
       "  </tbody>\n",
       "</table>\n",
       "</div>"
      ],
      "text/plain": [
       "   FID agency comments           mapmethod      datecurrent  \\\n",
       "0    1   USFS    WFDSS  GPS-Walked/ Driven  2018-02-14 0:00   \n",
       "1    2   USFS    WFDSS  GPS-Walked/ Driven  2018-04-06 0:00   \n",
       "2    3    C&L    WFDSS         Hand Sketch  2017-04-24 0:00   \n",
       "\n",
       "  uniquefireidentifier  fireyear   incidentname pooownerunit  \\\n",
       "0    2018-AZCNF-000059      2018            BOX        AZCNF   \n",
       "1    2018-AROUF-000688      2018            Zoe        AROUF   \n",
       "2    2017-CORBX-000061      2017  Milemarker 24          NaN   \n",
       "\n",
       "  perimeterdatetime   gisacres complexname firecode complexparentirwinid  \\\n",
       "0  2018-02-12 17:00  79.732397         NaN     LK58                  NaN   \n",
       "1   2018-04-05 0:00   0.201877         NaN     LMT8                  NaN   \n",
       "2   2017-04-21 0:00  82.996239         NaN      NaN                  NaN   \n",
       "\n",
       "  pooresponsibleunit state pooshort inciwebid localincidentidentifier  \\\n",
       "0              AZCNF    AZ      CNF       NaN                      59   \n",
       "1              AROUF    OK      OUF       NaN                     688   \n",
       "2              CORBX    CO      RBX       NaN                      61   \n",
       "\n",
       "                                  irwinid  \\\n",
       "0  {9A5CFD7A-5C05-40E6-A617-088B44A41174}   \n",
       "1  {5AFC28D0-6193-4103-AE00-65F4E659CA55}   \n",
       "2  {9C1A9E10-8FA8-4166-A212-EAF39A860469}   \n",
       "\n",
       "                             irwinid_nb incomplex complexfirecode  \\\n",
       "0  9A5CFD7A-5C05-40E6-A617-088B44A41174         N             NaN   \n",
       "1  5AFC28D0-6193-4103-AE00-65F4E659CA55         N             NaN   \n",
       "2  9C1A9E10-8FA8-4166-A212-EAF39A860469         N             NaN   \n",
       "\n",
       "   SHAPE_Length    SHAPE_Area  \n",
       "0      0.025799  3.070000e-05  \n",
       "1      0.001289  8.050000e-08  \n",
       "2      0.037537  3.540000e-05  "
      ]
     },
     "execution_count": 29,
     "metadata": {},
     "output_type": "execute_result"
    }
   ],
   "source": [
    "geomac.head(3)"
   ]
  },
  {
   "cell_type": "code",
   "execution_count": 30,
   "metadata": {},
   "outputs": [],
   "source": [
    "geomac = geomac.loc[((geomac['fireyear'] == 2017) | (geomac['fireyear'] == 2018))]\n",
    "geomac = geomac.loc[geomac['state'] == 'CA']"
   ]
  },
  {
   "cell_type": "code",
   "execution_count": 31,
   "metadata": {},
   "outputs": [
    {
     "data": {
      "text/html": [
       "<div>\n",
       "<style scoped>\n",
       "    .dataframe tbody tr th:only-of-type {\n",
       "        vertical-align: middle;\n",
       "    }\n",
       "\n",
       "    .dataframe tbody tr th {\n",
       "        vertical-align: top;\n",
       "    }\n",
       "\n",
       "    .dataframe thead th {\n",
       "        text-align: right;\n",
       "    }\n",
       "</style>\n",
       "<table border=\"1\" class=\"dataframe\">\n",
       "  <thead>\n",
       "    <tr style=\"text-align: right;\">\n",
       "      <th></th>\n",
       "      <th>FID</th>\n",
       "      <th>agency</th>\n",
       "      <th>comments</th>\n",
       "      <th>mapmethod</th>\n",
       "      <th>datecurrent</th>\n",
       "      <th>uniquefireidentifier</th>\n",
       "      <th>fireyear</th>\n",
       "      <th>incidentname</th>\n",
       "      <th>pooownerunit</th>\n",
       "      <th>perimeterdatetime</th>\n",
       "      <th>gisacres</th>\n",
       "      <th>complexname</th>\n",
       "      <th>firecode</th>\n",
       "      <th>complexparentirwinid</th>\n",
       "      <th>pooresponsibleunit</th>\n",
       "      <th>state</th>\n",
       "      <th>pooshort</th>\n",
       "      <th>inciwebid</th>\n",
       "      <th>localincidentidentifier</th>\n",
       "      <th>irwinid</th>\n",
       "      <th>irwinid_nb</th>\n",
       "      <th>incomplex</th>\n",
       "      <th>complexfirecode</th>\n",
       "      <th>SHAPE_Length</th>\n",
       "      <th>SHAPE_Area</th>\n",
       "    </tr>\n",
       "  </thead>\n",
       "  <tbody>\n",
       "    <tr>\n",
       "      <th>7</th>\n",
       "      <td>8</td>\n",
       "      <td>USFS</td>\n",
       "      <td>Event Standard Perims</td>\n",
       "      <td>Mixed Methods</td>\n",
       "      <td>2018-08-06 0:00</td>\n",
       "      <td>2018-CALNF-003951</td>\n",
       "      <td>2018</td>\n",
       "      <td>WHALEBACK</td>\n",
       "      <td>CALNF</td>\n",
       "      <td>2018-08-05 22:54</td>\n",
       "      <td>18701.898410</td>\n",
       "      <td>NaN</td>\n",
       "      <td>L1VS</td>\n",
       "      <td>NaN</td>\n",
       "      <td>CALNF</td>\n",
       "      <td>CA</td>\n",
       "      <td>LNF</td>\n",
       "      <td>6048</td>\n",
       "      <td>3951</td>\n",
       "      <td>{759B9749-822D-433D-8A84-9774BC8297E2}</td>\n",
       "      <td>759B9749-822D-433D-8A84-9774BC8297E2</td>\n",
       "      <td>N</td>\n",
       "      <td>NaN</td>\n",
       "      <td>0.501151</td>\n",
       "      <td>0.008056</td>\n",
       "    </tr>\n",
       "    <tr>\n",
       "      <th>18</th>\n",
       "      <td>19</td>\n",
       "      <td>C&amp;L</td>\n",
       "      <td>Event Standard Perims</td>\n",
       "      <td>Unknown</td>\n",
       "      <td>2017-12-28 0:00</td>\n",
       "      <td>2017-CAVNC-103156</td>\n",
       "      <td>2017</td>\n",
       "      <td>THOMAS</td>\n",
       "      <td>CAVNC</td>\n",
       "      <td>2017-12-27 18:01</td>\n",
       "      <td>281893.757000</td>\n",
       "      <td>NaN</td>\n",
       "      <td>LH77</td>\n",
       "      <td>NaN</td>\n",
       "      <td>CAVNC</td>\n",
       "      <td>CA</td>\n",
       "      <td>VNC</td>\n",
       "      <td>5670</td>\n",
       "      <td>103156</td>\n",
       "      <td>{943D8086-7DF4-47C7-BB98-A358E962667E}</td>\n",
       "      <td>943D8086-7DF4-47C7-BB98-A358E962667E</td>\n",
       "      <td>N</td>\n",
       "      <td>NaN</td>\n",
       "      <td>4.425005</td>\n",
       "      <td>0.111909</td>\n",
       "    </tr>\n",
       "    <tr>\n",
       "      <th>72</th>\n",
       "      <td>73</td>\n",
       "      <td>CDF</td>\n",
       "      <td>FIMT</td>\n",
       "      <td>Unknown</td>\n",
       "      <td>2018-02-23 0:00</td>\n",
       "      <td>2018-CABDU-002752</td>\n",
       "      <td>2018</td>\n",
       "      <td>PLEASANT</td>\n",
       "      <td>CABDU</td>\n",
       "      <td>2018-02-23 0:00</td>\n",
       "      <td>2076.568139</td>\n",
       "      <td>NaN</td>\n",
       "      <td>LK8K</td>\n",
       "      <td>NaN</td>\n",
       "      <td>CABDU</td>\n",
       "      <td>CA</td>\n",
       "      <td>BDU</td>\n",
       "      <td>NaN</td>\n",
       "      <td>2752</td>\n",
       "      <td>{595595CC-7CDB-4607-B19C-2D631CA9A6F7}</td>\n",
       "      <td>595595CC-7CDB-4607-B19C-2D631CA9A6F7</td>\n",
       "      <td>N</td>\n",
       "      <td>NaN</td>\n",
       "      <td>0.397187</td>\n",
       "      <td>0.000855</td>\n",
       "    </tr>\n",
       "  </tbody>\n",
       "</table>\n",
       "</div>"
      ],
      "text/plain": [
       "    FID agency               comments      mapmethod      datecurrent  \\\n",
       "7     8   USFS  Event Standard Perims  Mixed Methods  2018-08-06 0:00   \n",
       "18   19    C&L  Event Standard Perims        Unknown  2017-12-28 0:00   \n",
       "72   73    CDF                   FIMT        Unknown  2018-02-23 0:00   \n",
       "\n",
       "   uniquefireidentifier  fireyear incidentname pooownerunit perimeterdatetime  \\\n",
       "7     2018-CALNF-003951      2018    WHALEBACK        CALNF  2018-08-05 22:54   \n",
       "18    2017-CAVNC-103156      2017       THOMAS        CAVNC  2017-12-27 18:01   \n",
       "72    2018-CABDU-002752      2018     PLEASANT        CABDU   2018-02-23 0:00   \n",
       "\n",
       "         gisacres complexname firecode complexparentirwinid  \\\n",
       "7    18701.898410         NaN     L1VS                  NaN   \n",
       "18  281893.757000         NaN     LH77                  NaN   \n",
       "72    2076.568139         NaN     LK8K                  NaN   \n",
       "\n",
       "   pooresponsibleunit state pooshort inciwebid localincidentidentifier  \\\n",
       "7               CALNF    CA      LNF      6048                    3951   \n",
       "18              CAVNC    CA      VNC      5670                  103156   \n",
       "72              CABDU    CA      BDU       NaN                    2752   \n",
       "\n",
       "                                   irwinid  \\\n",
       "7   {759B9749-822D-433D-8A84-9774BC8297E2}   \n",
       "18  {943D8086-7DF4-47C7-BB98-A358E962667E}   \n",
       "72  {595595CC-7CDB-4607-B19C-2D631CA9A6F7}   \n",
       "\n",
       "                              irwinid_nb incomplex complexfirecode  \\\n",
       "7   759B9749-822D-433D-8A84-9774BC8297E2         N             NaN   \n",
       "18  943D8086-7DF4-47C7-BB98-A358E962667E         N             NaN   \n",
       "72  595595CC-7CDB-4607-B19C-2D631CA9A6F7         N             NaN   \n",
       "\n",
       "    SHAPE_Length  SHAPE_Area  \n",
       "7       0.501151    0.008056  \n",
       "18      4.425005    0.111909  \n",
       "72      0.397187    0.000855  "
      ]
     },
     "execution_count": 31,
     "metadata": {},
     "output_type": "execute_result"
    }
   ],
   "source": [
    "geomac.head(3)"
   ]
  },
  {
   "cell_type": "code",
   "execution_count": 32,
   "metadata": {},
   "outputs": [
    {
     "data": {
      "text/plain": [
       "(323, 25)"
      ]
     },
     "execution_count": 32,
     "metadata": {},
     "output_type": "execute_result"
    }
   ],
   "source": [
    "geomac.shape"
   ]
  },
  {
   "cell_type": "code",
   "execution_count": 33,
   "metadata": {},
   "outputs": [],
   "source": [
    "NI_2018 = NI_2018.loc[NI_2018['state'] == 'CA']"
   ]
  },
  {
   "cell_type": "code",
   "execution_count": 35,
   "metadata": {},
   "outputs": [],
   "source": [
    "NI_2017 = NI_2017.loc[NI_2017['state'] == 'CA']"
   ]
  },
  {
   "cell_type": "code",
   "execution_count": 37,
   "metadata": {},
   "outputs": [
    {
     "data": {
      "text/plain": [
       "array(['Branch Break', 'Division Break', 'Drop Point', 'Fire Origin',\n",
       "       'Staging Area', 'Helispot', 'Incident Command Post', 'Helibase',\n",
       "       'Fire Station', 'Lookout', 'Camp', 'Water Source', 'Dip Site',\n",
       "       'Sling Site', 'Repeater', 'Other', 'Unknown', 'Spot Fire',\n",
       "       'Mobile Weather Unit', 'Retardant/Mud Pit', 'Zone Break',\n",
       "       'IR Isolated Heat Source', 'Airstrip or Airport', 'Landmark',\n",
       "       'Safety Zone', 'Pump', 'Water Tank', 'Closure', 'Fire Location',\n",
       "       'Stream Crossing', 'Gate', 'Dozer Creek Crossing',\n",
       "       'Internet Access', 'Unimproved Landing Area',\n",
       "       'Restricted Water Source', 'Aerial Hazard', 'Hot Spot',\n",
       "       'Incident Base', 'Division Break - Hirz', 'Branch Break - Hirz',\n",
       "       nan], dtype=object)"
      ]
     },
     "execution_count": 37,
     "metadata": {},
     "output_type": "execute_result"
    }
   ],
   "source": [
    "NI_2018.FeatureCategory.unique()"
   ]
  },
  {
   "cell_type": "markdown",
   "metadata": {},
   "source": [
    "## Looking at Historical Fire Data"
   ]
  },
  {
   "cell_type": "code",
   "execution_count": 114,
   "metadata": {},
   "outputs": [
    {
     "data": {
      "text/html": [
       "<div>\n",
       "<style scoped>\n",
       "    .dataframe tbody tr th:only-of-type {\n",
       "        vertical-align: middle;\n",
       "    }\n",
       "\n",
       "    .dataframe tbody tr th {\n",
       "        vertical-align: top;\n",
       "    }\n",
       "\n",
       "    .dataframe thead th {\n",
       "        text-align: right;\n",
       "    }\n",
       "</style>\n",
       "<table border=\"1\" class=\"dataframe\">\n",
       "  <thead>\n",
       "    <tr style=\"text-align: right;\">\n",
       "      <th></th>\n",
       "      <th>Year</th>\n",
       "      <th>Fires</th>\n",
       "      <th>Acres</th>\n",
       "    </tr>\n",
       "  </thead>\n",
       "  <tbody>\n",
       "    <tr>\n",
       "      <th>0</th>\n",
       "      <td>2019</td>\n",
       "      <td>50477</td>\n",
       "      <td>4664364</td>\n",
       "    </tr>\n",
       "    <tr>\n",
       "      <th>1</th>\n",
       "      <td>2018</td>\n",
       "      <td>58083</td>\n",
       "      <td>8767492</td>\n",
       "    </tr>\n",
       "    <tr>\n",
       "      <th>2</th>\n",
       "      <td>2017</td>\n",
       "      <td>71499</td>\n",
       "      <td>10026086</td>\n",
       "    </tr>\n",
       "    <tr>\n",
       "      <th>3</th>\n",
       "      <td>2016</td>\n",
       "      <td>67743</td>\n",
       "      <td>5509995</td>\n",
       "    </tr>\n",
       "    <tr>\n",
       "      <th>4</th>\n",
       "      <td>2015</td>\n",
       "      <td>68151</td>\n",
       "      <td>10125149</td>\n",
       "    </tr>\n",
       "    <tr>\n",
       "      <th>5</th>\n",
       "      <td>2014</td>\n",
       "      <td>63312</td>\n",
       "      <td>3595613</td>\n",
       "    </tr>\n",
       "    <tr>\n",
       "      <th>6</th>\n",
       "      <td>2013</td>\n",
       "      <td>47579</td>\n",
       "      <td>4319546</td>\n",
       "    </tr>\n",
       "    <tr>\n",
       "      <th>7</th>\n",
       "      <td>2012</td>\n",
       "      <td>67774</td>\n",
       "      <td>9326238</td>\n",
       "    </tr>\n",
       "    <tr>\n",
       "      <th>8</th>\n",
       "      <td>2011</td>\n",
       "      <td>74126</td>\n",
       "      <td>8711367</td>\n",
       "    </tr>\n",
       "    <tr>\n",
       "      <th>9</th>\n",
       "      <td>2010</td>\n",
       "      <td>71971</td>\n",
       "      <td>3422724</td>\n",
       "    </tr>\n",
       "    <tr>\n",
       "      <th>10</th>\n",
       "      <td>2009</td>\n",
       "      <td>78792</td>\n",
       "      <td>5921786</td>\n",
       "    </tr>\n",
       "    <tr>\n",
       "      <th>11</th>\n",
       "      <td>2008</td>\n",
       "      <td>78979</td>\n",
       "      <td>5292468</td>\n",
       "    </tr>\n",
       "    <tr>\n",
       "      <th>12</th>\n",
       "      <td>2007</td>\n",
       "      <td>85705</td>\n",
       "      <td>9328045</td>\n",
       "    </tr>\n",
       "    <tr>\n",
       "      <th>13</th>\n",
       "      <td>2006</td>\n",
       "      <td>96385</td>\n",
       "      <td>9873745</td>\n",
       "    </tr>\n",
       "    <tr>\n",
       "      <th>14</th>\n",
       "      <td>2005</td>\n",
       "      <td>66753</td>\n",
       "      <td>8689389</td>\n",
       "    </tr>\n",
       "    <tr>\n",
       "      <th>15</th>\n",
       "      <td>2004</td>\n",
       "      <td>65461</td>\n",
       "      <td>8097880</td>\n",
       "    </tr>\n",
       "    <tr>\n",
       "      <th>16</th>\n",
       "      <td>2003</td>\n",
       "      <td>63629</td>\n",
       "      <td>3960842</td>\n",
       "    </tr>\n",
       "    <tr>\n",
       "      <th>17</th>\n",
       "      <td>2002</td>\n",
       "      <td>73457</td>\n",
       "      <td>7184712</td>\n",
       "    </tr>\n",
       "    <tr>\n",
       "      <th>18</th>\n",
       "      <td>2001</td>\n",
       "      <td>84079</td>\n",
       "      <td>3570911</td>\n",
       "    </tr>\n",
       "    <tr>\n",
       "      <th>19</th>\n",
       "      <td>2000</td>\n",
       "      <td>92250</td>\n",
       "      <td>7393493</td>\n",
       "    </tr>\n",
       "  </tbody>\n",
       "</table>\n",
       "</div>"
      ],
      "text/plain": [
       "    Year  Fires     Acres\n",
       "0   2019  50477   4664364\n",
       "1   2018  58083   8767492\n",
       "2   2017  71499  10026086\n",
       "3   2016  67743   5509995\n",
       "4   2015  68151  10125149\n",
       "5   2014  63312   3595613\n",
       "6   2013  47579   4319546\n",
       "7   2012  67774   9326238\n",
       "8   2011  74126   8711367\n",
       "9   2010  71971   3422724\n",
       "10  2009  78792   5921786\n",
       "11  2008  78979   5292468\n",
       "12  2007  85705   9328045\n",
       "13  2006  96385   9873745\n",
       "14  2005  66753   8689389\n",
       "15  2004  65461   8097880\n",
       "16  2003  63629   3960842\n",
       "17  2002  73457   7184712\n",
       "18  2001  84079   3570911\n",
       "19  2000  92250   7393493"
      ]
     },
     "execution_count": 114,
     "metadata": {},
     "output_type": "execute_result"
    }
   ],
   "source": [
    "historical_totals"
   ]
  },
  {
   "cell_type": "code",
   "execution_count": 119,
   "metadata": {},
   "outputs": [],
   "source": [
    "hist_tot = historical_totals.copy()\n",
    "hist_tot = hist_tot.iloc[:9,]"
   ]
  },
  {
   "cell_type": "code",
   "execution_count": 120,
   "metadata": {},
   "outputs": [
    {
     "data": {
      "application/vnd.plotly.v1+json": {
       "config": {
        "plotlyServerURL": "https://plot.ly"
       },
       "data": [
        {
         "marker": {
          "color": "#F55E61"
         },
         "text": [
          50477,
          58083,
          71499,
          67743,
          68151,
          63312,
          47579,
          67774,
          74126
         ],
         "textposition": "auto",
         "type": "bar",
         "x": [
          2019,
          2018,
          2017,
          2016,
          2015,
          2014,
          2013,
          2012,
          2011
         ],
         "y": [
          50477,
          58083,
          71499,
          67743,
          68151,
          63312,
          47579,
          67774,
          74126
         ]
        }
       ],
       "layout": {
        "bargap": 0.05,
        "font": {
         "color": "#5e696c"
        },
        "height": 500,
        "paper_bgcolor": "rgba(0,0,0,0)",
        "plot_bgcolor": "rgba(0,0,0,0)",
        "template": {
         "data": {
          "bar": [
           {
            "error_x": {
             "color": "#2a3f5f"
            },
            "error_y": {
             "color": "#2a3f5f"
            },
            "marker": {
             "line": {
              "color": "#E5ECF6",
              "width": 0.5
             }
            },
            "type": "bar"
           }
          ],
          "barpolar": [
           {
            "marker": {
             "line": {
              "color": "#E5ECF6",
              "width": 0.5
             }
            },
            "type": "barpolar"
           }
          ],
          "carpet": [
           {
            "aaxis": {
             "endlinecolor": "#2a3f5f",
             "gridcolor": "white",
             "linecolor": "white",
             "minorgridcolor": "white",
             "startlinecolor": "#2a3f5f"
            },
            "baxis": {
             "endlinecolor": "#2a3f5f",
             "gridcolor": "white",
             "linecolor": "white",
             "minorgridcolor": "white",
             "startlinecolor": "#2a3f5f"
            },
            "type": "carpet"
           }
          ],
          "choropleth": [
           {
            "colorbar": {
             "outlinewidth": 0,
             "ticks": ""
            },
            "type": "choropleth"
           }
          ],
          "contour": [
           {
            "colorbar": {
             "outlinewidth": 0,
             "ticks": ""
            },
            "colorscale": [
             [
              0,
              "#0d0887"
             ],
             [
              0.1111111111111111,
              "#46039f"
             ],
             [
              0.2222222222222222,
              "#7201a8"
             ],
             [
              0.3333333333333333,
              "#9c179e"
             ],
             [
              0.4444444444444444,
              "#bd3786"
             ],
             [
              0.5555555555555556,
              "#d8576b"
             ],
             [
              0.6666666666666666,
              "#ed7953"
             ],
             [
              0.7777777777777778,
              "#fb9f3a"
             ],
             [
              0.8888888888888888,
              "#fdca26"
             ],
             [
              1,
              "#f0f921"
             ]
            ],
            "type": "contour"
           }
          ],
          "contourcarpet": [
           {
            "colorbar": {
             "outlinewidth": 0,
             "ticks": ""
            },
            "type": "contourcarpet"
           }
          ],
          "heatmap": [
           {
            "colorbar": {
             "outlinewidth": 0,
             "ticks": ""
            },
            "colorscale": [
             [
              0,
              "#0d0887"
             ],
             [
              0.1111111111111111,
              "#46039f"
             ],
             [
              0.2222222222222222,
              "#7201a8"
             ],
             [
              0.3333333333333333,
              "#9c179e"
             ],
             [
              0.4444444444444444,
              "#bd3786"
             ],
             [
              0.5555555555555556,
              "#d8576b"
             ],
             [
              0.6666666666666666,
              "#ed7953"
             ],
             [
              0.7777777777777778,
              "#fb9f3a"
             ],
             [
              0.8888888888888888,
              "#fdca26"
             ],
             [
              1,
              "#f0f921"
             ]
            ],
            "type": "heatmap"
           }
          ],
          "heatmapgl": [
           {
            "colorbar": {
             "outlinewidth": 0,
             "ticks": ""
            },
            "colorscale": [
             [
              0,
              "#0d0887"
             ],
             [
              0.1111111111111111,
              "#46039f"
             ],
             [
              0.2222222222222222,
              "#7201a8"
             ],
             [
              0.3333333333333333,
              "#9c179e"
             ],
             [
              0.4444444444444444,
              "#bd3786"
             ],
             [
              0.5555555555555556,
              "#d8576b"
             ],
             [
              0.6666666666666666,
              "#ed7953"
             ],
             [
              0.7777777777777778,
              "#fb9f3a"
             ],
             [
              0.8888888888888888,
              "#fdca26"
             ],
             [
              1,
              "#f0f921"
             ]
            ],
            "type": "heatmapgl"
           }
          ],
          "histogram": [
           {
            "marker": {
             "colorbar": {
              "outlinewidth": 0,
              "ticks": ""
             }
            },
            "type": "histogram"
           }
          ],
          "histogram2d": [
           {
            "colorbar": {
             "outlinewidth": 0,
             "ticks": ""
            },
            "colorscale": [
             [
              0,
              "#0d0887"
             ],
             [
              0.1111111111111111,
              "#46039f"
             ],
             [
              0.2222222222222222,
              "#7201a8"
             ],
             [
              0.3333333333333333,
              "#9c179e"
             ],
             [
              0.4444444444444444,
              "#bd3786"
             ],
             [
              0.5555555555555556,
              "#d8576b"
             ],
             [
              0.6666666666666666,
              "#ed7953"
             ],
             [
              0.7777777777777778,
              "#fb9f3a"
             ],
             [
              0.8888888888888888,
              "#fdca26"
             ],
             [
              1,
              "#f0f921"
             ]
            ],
            "type": "histogram2d"
           }
          ],
          "histogram2dcontour": [
           {
            "colorbar": {
             "outlinewidth": 0,
             "ticks": ""
            },
            "colorscale": [
             [
              0,
              "#0d0887"
             ],
             [
              0.1111111111111111,
              "#46039f"
             ],
             [
              0.2222222222222222,
              "#7201a8"
             ],
             [
              0.3333333333333333,
              "#9c179e"
             ],
             [
              0.4444444444444444,
              "#bd3786"
             ],
             [
              0.5555555555555556,
              "#d8576b"
             ],
             [
              0.6666666666666666,
              "#ed7953"
             ],
             [
              0.7777777777777778,
              "#fb9f3a"
             ],
             [
              0.8888888888888888,
              "#fdca26"
             ],
             [
              1,
              "#f0f921"
             ]
            ],
            "type": "histogram2dcontour"
           }
          ],
          "mesh3d": [
           {
            "colorbar": {
             "outlinewidth": 0,
             "ticks": ""
            },
            "type": "mesh3d"
           }
          ],
          "parcoords": [
           {
            "line": {
             "colorbar": {
              "outlinewidth": 0,
              "ticks": ""
             }
            },
            "type": "parcoords"
           }
          ],
          "pie": [
           {
            "automargin": true,
            "type": "pie"
           }
          ],
          "scatter": [
           {
            "marker": {
             "colorbar": {
              "outlinewidth": 0,
              "ticks": ""
             }
            },
            "type": "scatter"
           }
          ],
          "scatter3d": [
           {
            "line": {
             "colorbar": {
              "outlinewidth": 0,
              "ticks": ""
             }
            },
            "marker": {
             "colorbar": {
              "outlinewidth": 0,
              "ticks": ""
             }
            },
            "type": "scatter3d"
           }
          ],
          "scattercarpet": [
           {
            "marker": {
             "colorbar": {
              "outlinewidth": 0,
              "ticks": ""
             }
            },
            "type": "scattercarpet"
           }
          ],
          "scattergeo": [
           {
            "marker": {
             "colorbar": {
              "outlinewidth": 0,
              "ticks": ""
             }
            },
            "type": "scattergeo"
           }
          ],
          "scattergl": [
           {
            "marker": {
             "colorbar": {
              "outlinewidth": 0,
              "ticks": ""
             }
            },
            "type": "scattergl"
           }
          ],
          "scattermapbox": [
           {
            "marker": {
             "colorbar": {
              "outlinewidth": 0,
              "ticks": ""
             }
            },
            "type": "scattermapbox"
           }
          ],
          "scatterpolar": [
           {
            "marker": {
             "colorbar": {
              "outlinewidth": 0,
              "ticks": ""
             }
            },
            "type": "scatterpolar"
           }
          ],
          "scatterpolargl": [
           {
            "marker": {
             "colorbar": {
              "outlinewidth": 0,
              "ticks": ""
             }
            },
            "type": "scatterpolargl"
           }
          ],
          "scatterternary": [
           {
            "marker": {
             "colorbar": {
              "outlinewidth": 0,
              "ticks": ""
             }
            },
            "type": "scatterternary"
           }
          ],
          "surface": [
           {
            "colorbar": {
             "outlinewidth": 0,
             "ticks": ""
            },
            "colorscale": [
             [
              0,
              "#0d0887"
             ],
             [
              0.1111111111111111,
              "#46039f"
             ],
             [
              0.2222222222222222,
              "#7201a8"
             ],
             [
              0.3333333333333333,
              "#9c179e"
             ],
             [
              0.4444444444444444,
              "#bd3786"
             ],
             [
              0.5555555555555556,
              "#d8576b"
             ],
             [
              0.6666666666666666,
              "#ed7953"
             ],
             [
              0.7777777777777778,
              "#fb9f3a"
             ],
             [
              0.8888888888888888,
              "#fdca26"
             ],
             [
              1,
              "#f0f921"
             ]
            ],
            "type": "surface"
           }
          ],
          "table": [
           {
            "cells": {
             "fill": {
              "color": "#EBF0F8"
             },
             "line": {
              "color": "white"
             }
            },
            "header": {
             "fill": {
              "color": "#C8D4E3"
             },
             "line": {
              "color": "white"
             }
            },
            "type": "table"
           }
          ]
         },
         "layout": {
          "annotationdefaults": {
           "arrowcolor": "#2a3f5f",
           "arrowhead": 0,
           "arrowwidth": 1
          },
          "autotypenumbers": "strict",
          "coloraxis": {
           "colorbar": {
            "outlinewidth": 0,
            "ticks": ""
           }
          },
          "colorscale": {
           "diverging": [
            [
             0,
             "#8e0152"
            ],
            [
             0.1,
             "#c51b7d"
            ],
            [
             0.2,
             "#de77ae"
            ],
            [
             0.3,
             "#f1b6da"
            ],
            [
             0.4,
             "#fde0ef"
            ],
            [
             0.5,
             "#f7f7f7"
            ],
            [
             0.6,
             "#e6f5d0"
            ],
            [
             0.7,
             "#b8e186"
            ],
            [
             0.8,
             "#7fbc41"
            ],
            [
             0.9,
             "#4d9221"
            ],
            [
             1,
             "#276419"
            ]
           ],
           "sequential": [
            [
             0,
             "#0d0887"
            ],
            [
             0.1111111111111111,
             "#46039f"
            ],
            [
             0.2222222222222222,
             "#7201a8"
            ],
            [
             0.3333333333333333,
             "#9c179e"
            ],
            [
             0.4444444444444444,
             "#bd3786"
            ],
            [
             0.5555555555555556,
             "#d8576b"
            ],
            [
             0.6666666666666666,
             "#ed7953"
            ],
            [
             0.7777777777777778,
             "#fb9f3a"
            ],
            [
             0.8888888888888888,
             "#fdca26"
            ],
            [
             1,
             "#f0f921"
            ]
           ],
           "sequentialminus": [
            [
             0,
             "#0d0887"
            ],
            [
             0.1111111111111111,
             "#46039f"
            ],
            [
             0.2222222222222222,
             "#7201a8"
            ],
            [
             0.3333333333333333,
             "#9c179e"
            ],
            [
             0.4444444444444444,
             "#bd3786"
            ],
            [
             0.5555555555555556,
             "#d8576b"
            ],
            [
             0.6666666666666666,
             "#ed7953"
            ],
            [
             0.7777777777777778,
             "#fb9f3a"
            ],
            [
             0.8888888888888888,
             "#fdca26"
            ],
            [
             1,
             "#f0f921"
            ]
           ]
          },
          "colorway": [
           "#636efa",
           "#EF553B",
           "#00cc96",
           "#ab63fa",
           "#FFA15A",
           "#19d3f3",
           "#FF6692",
           "#B6E880",
           "#FF97FF",
           "#FECB52"
          ],
          "font": {
           "color": "#2a3f5f"
          },
          "geo": {
           "bgcolor": "white",
           "lakecolor": "white",
           "landcolor": "#E5ECF6",
           "showlakes": true,
           "showland": true,
           "subunitcolor": "white"
          },
          "hoverlabel": {
           "align": "left"
          },
          "hovermode": "closest",
          "mapbox": {
           "style": "light"
          },
          "paper_bgcolor": "white",
          "plot_bgcolor": "#E5ECF6",
          "polar": {
           "angularaxis": {
            "gridcolor": "white",
            "linecolor": "white",
            "ticks": ""
           },
           "bgcolor": "#E5ECF6",
           "radialaxis": {
            "gridcolor": "white",
            "linecolor": "white",
            "ticks": ""
           }
          },
          "scene": {
           "xaxis": {
            "backgroundcolor": "#E5ECF6",
            "gridcolor": "white",
            "gridwidth": 2,
            "linecolor": "white",
            "showbackground": true,
            "ticks": "",
            "zerolinecolor": "white"
           },
           "yaxis": {
            "backgroundcolor": "#E5ECF6",
            "gridcolor": "white",
            "gridwidth": 2,
            "linecolor": "white",
            "showbackground": true,
            "ticks": "",
            "zerolinecolor": "white"
           },
           "zaxis": {
            "backgroundcolor": "#E5ECF6",
            "gridcolor": "white",
            "gridwidth": 2,
            "linecolor": "white",
            "showbackground": true,
            "ticks": "",
            "zerolinecolor": "white"
           }
          },
          "shapedefaults": {
           "line": {
            "color": "#2a3f5f"
           }
          },
          "ternary": {
           "aaxis": {
            "gridcolor": "white",
            "linecolor": "white",
            "ticks": ""
           },
           "baxis": {
            "gridcolor": "white",
            "linecolor": "white",
            "ticks": ""
           },
           "bgcolor": "#E5ECF6",
           "caxis": {
            "gridcolor": "white",
            "linecolor": "white",
            "ticks": ""
           }
          },
          "title": {
           "x": 0.05
          },
          "xaxis": {
           "automargin": true,
           "gridcolor": "white",
           "linecolor": "white",
           "ticks": "",
           "title": {
            "standoff": 15
           },
           "zerolinecolor": "white",
           "zerolinewidth": 2
          },
          "yaxis": {
           "automargin": true,
           "gridcolor": "white",
           "linecolor": "white",
           "ticks": "",
           "title": {
            "standoff": 15
           },
           "zerolinecolor": "white",
           "zerolinewidth": 2
          }
         }
        },
        "title": {
         "text": "Fires Over Time",
         "x": 0.5,
         "y": 0.96
        },
        "width": 920,
        "xaxis": {
         "title": {
          "text": "Year"
         }
        },
        "yaxis": {
         "title": {
          "text": "Frequency of Fires in the US"
         }
        }
       }
      },
      "text/html": [
       "<div>                            <div id=\"72082738-02a3-419b-975d-984ef2202988\" class=\"plotly-graph-div\" style=\"height:500px; width:920px;\"></div>            <script type=\"text/javascript\">                require([\"plotly\"], function(Plotly) {                    window.PLOTLYENV=window.PLOTLYENV || {};                                    if (document.getElementById(\"72082738-02a3-419b-975d-984ef2202988\")) {                    Plotly.newPlot(                        \"72082738-02a3-419b-975d-984ef2202988\",                        [{\"marker\": {\"color\": \"#F55E61\"}, \"text\": [50477.0, 58083.0, 71499.0, 67743.0, 68151.0, 63312.0, 47579.0, 67774.0, 74126.0], \"textposition\": \"auto\", \"type\": \"bar\", \"x\": [2019, 2018, 2017, 2016, 2015, 2014, 2013, 2012, 2011], \"y\": [50477, 58083, 71499, 67743, 68151, 63312, 47579, 67774, 74126]}],                        {\"bargap\": 0.05, \"font\": {\"color\": \"#5e696c\"}, \"height\": 500, \"paper_bgcolor\": \"rgba(0,0,0,0)\", \"plot_bgcolor\": \"rgba(0,0,0,0)\", \"template\": {\"data\": {\"bar\": [{\"error_x\": {\"color\": \"#2a3f5f\"}, \"error_y\": {\"color\": \"#2a3f5f\"}, \"marker\": {\"line\": {\"color\": \"#E5ECF6\", \"width\": 0.5}}, \"type\": \"bar\"}], \"barpolar\": [{\"marker\": {\"line\": {\"color\": \"#E5ECF6\", \"width\": 0.5}}, \"type\": \"barpolar\"}], \"carpet\": [{\"aaxis\": {\"endlinecolor\": \"#2a3f5f\", \"gridcolor\": \"white\", \"linecolor\": \"white\", \"minorgridcolor\": \"white\", \"startlinecolor\": \"#2a3f5f\"}, \"baxis\": {\"endlinecolor\": \"#2a3f5f\", \"gridcolor\": \"white\", \"linecolor\": \"white\", \"minorgridcolor\": \"white\", \"startlinecolor\": \"#2a3f5f\"}, \"type\": \"carpet\"}], \"choropleth\": [{\"colorbar\": {\"outlinewidth\": 0, \"ticks\": \"\"}, \"type\": \"choropleth\"}], \"contour\": [{\"colorbar\": {\"outlinewidth\": 0, \"ticks\": \"\"}, \"colorscale\": [[0.0, \"#0d0887\"], [0.1111111111111111, \"#46039f\"], [0.2222222222222222, \"#7201a8\"], [0.3333333333333333, \"#9c179e\"], [0.4444444444444444, \"#bd3786\"], [0.5555555555555556, \"#d8576b\"], [0.6666666666666666, \"#ed7953\"], [0.7777777777777778, \"#fb9f3a\"], [0.8888888888888888, \"#fdca26\"], [1.0, \"#f0f921\"]], \"type\": \"contour\"}], \"contourcarpet\": [{\"colorbar\": {\"outlinewidth\": 0, \"ticks\": \"\"}, \"type\": \"contourcarpet\"}], \"heatmap\": [{\"colorbar\": {\"outlinewidth\": 0, \"ticks\": \"\"}, \"colorscale\": [[0.0, \"#0d0887\"], [0.1111111111111111, \"#46039f\"], [0.2222222222222222, \"#7201a8\"], [0.3333333333333333, \"#9c179e\"], [0.4444444444444444, \"#bd3786\"], [0.5555555555555556, \"#d8576b\"], [0.6666666666666666, \"#ed7953\"], [0.7777777777777778, \"#fb9f3a\"], [0.8888888888888888, \"#fdca26\"], [1.0, \"#f0f921\"]], \"type\": \"heatmap\"}], \"heatmapgl\": [{\"colorbar\": {\"outlinewidth\": 0, \"ticks\": \"\"}, \"colorscale\": [[0.0, \"#0d0887\"], [0.1111111111111111, \"#46039f\"], [0.2222222222222222, \"#7201a8\"], [0.3333333333333333, \"#9c179e\"], [0.4444444444444444, \"#bd3786\"], [0.5555555555555556, \"#d8576b\"], [0.6666666666666666, \"#ed7953\"], [0.7777777777777778, \"#fb9f3a\"], [0.8888888888888888, \"#fdca26\"], [1.0, \"#f0f921\"]], \"type\": \"heatmapgl\"}], \"histogram\": [{\"marker\": {\"colorbar\": {\"outlinewidth\": 0, \"ticks\": \"\"}}, \"type\": \"histogram\"}], \"histogram2d\": [{\"colorbar\": {\"outlinewidth\": 0, \"ticks\": \"\"}, \"colorscale\": [[0.0, \"#0d0887\"], [0.1111111111111111, \"#46039f\"], [0.2222222222222222, \"#7201a8\"], [0.3333333333333333, \"#9c179e\"], [0.4444444444444444, \"#bd3786\"], [0.5555555555555556, \"#d8576b\"], [0.6666666666666666, \"#ed7953\"], [0.7777777777777778, \"#fb9f3a\"], [0.8888888888888888, \"#fdca26\"], [1.0, \"#f0f921\"]], \"type\": \"histogram2d\"}], \"histogram2dcontour\": [{\"colorbar\": {\"outlinewidth\": 0, \"ticks\": \"\"}, \"colorscale\": [[0.0, \"#0d0887\"], [0.1111111111111111, \"#46039f\"], [0.2222222222222222, \"#7201a8\"], [0.3333333333333333, \"#9c179e\"], [0.4444444444444444, \"#bd3786\"], [0.5555555555555556, \"#d8576b\"], [0.6666666666666666, \"#ed7953\"], [0.7777777777777778, \"#fb9f3a\"], [0.8888888888888888, \"#fdca26\"], [1.0, \"#f0f921\"]], \"type\": \"histogram2dcontour\"}], \"mesh3d\": [{\"colorbar\": {\"outlinewidth\": 0, \"ticks\": \"\"}, \"type\": \"mesh3d\"}], \"parcoords\": [{\"line\": {\"colorbar\": {\"outlinewidth\": 0, \"ticks\": \"\"}}, \"type\": \"parcoords\"}], \"pie\": [{\"automargin\": true, \"type\": \"pie\"}], \"scatter\": [{\"marker\": {\"colorbar\": {\"outlinewidth\": 0, \"ticks\": \"\"}}, \"type\": \"scatter\"}], \"scatter3d\": [{\"line\": {\"colorbar\": {\"outlinewidth\": 0, \"ticks\": \"\"}}, \"marker\": {\"colorbar\": {\"outlinewidth\": 0, \"ticks\": \"\"}}, \"type\": \"scatter3d\"}], \"scattercarpet\": [{\"marker\": {\"colorbar\": {\"outlinewidth\": 0, \"ticks\": \"\"}}, \"type\": \"scattercarpet\"}], \"scattergeo\": [{\"marker\": {\"colorbar\": {\"outlinewidth\": 0, \"ticks\": \"\"}}, \"type\": \"scattergeo\"}], \"scattergl\": [{\"marker\": {\"colorbar\": {\"outlinewidth\": 0, \"ticks\": \"\"}}, \"type\": \"scattergl\"}], \"scattermapbox\": [{\"marker\": {\"colorbar\": {\"outlinewidth\": 0, \"ticks\": \"\"}}, \"type\": \"scattermapbox\"}], \"scatterpolar\": [{\"marker\": {\"colorbar\": {\"outlinewidth\": 0, \"ticks\": \"\"}}, \"type\": \"scatterpolar\"}], \"scatterpolargl\": [{\"marker\": {\"colorbar\": {\"outlinewidth\": 0, \"ticks\": \"\"}}, \"type\": \"scatterpolargl\"}], \"scatterternary\": [{\"marker\": {\"colorbar\": {\"outlinewidth\": 0, \"ticks\": \"\"}}, \"type\": \"scatterternary\"}], \"surface\": [{\"colorbar\": {\"outlinewidth\": 0, \"ticks\": \"\"}, \"colorscale\": [[0.0, \"#0d0887\"], [0.1111111111111111, \"#46039f\"], [0.2222222222222222, \"#7201a8\"], [0.3333333333333333, \"#9c179e\"], [0.4444444444444444, \"#bd3786\"], [0.5555555555555556, \"#d8576b\"], [0.6666666666666666, \"#ed7953\"], [0.7777777777777778, \"#fb9f3a\"], [0.8888888888888888, \"#fdca26\"], [1.0, \"#f0f921\"]], \"type\": \"surface\"}], \"table\": [{\"cells\": {\"fill\": {\"color\": \"#EBF0F8\"}, \"line\": {\"color\": \"white\"}}, \"header\": {\"fill\": {\"color\": \"#C8D4E3\"}, \"line\": {\"color\": \"white\"}}, \"type\": \"table\"}]}, \"layout\": {\"annotationdefaults\": {\"arrowcolor\": \"#2a3f5f\", \"arrowhead\": 0, \"arrowwidth\": 1}, \"autotypenumbers\": \"strict\", \"coloraxis\": {\"colorbar\": {\"outlinewidth\": 0, \"ticks\": \"\"}}, \"colorscale\": {\"diverging\": [[0, \"#8e0152\"], [0.1, \"#c51b7d\"], [0.2, \"#de77ae\"], [0.3, \"#f1b6da\"], [0.4, \"#fde0ef\"], [0.5, \"#f7f7f7\"], [0.6, \"#e6f5d0\"], [0.7, \"#b8e186\"], [0.8, \"#7fbc41\"], [0.9, \"#4d9221\"], [1, \"#276419\"]], \"sequential\": [[0.0, \"#0d0887\"], [0.1111111111111111, \"#46039f\"], [0.2222222222222222, \"#7201a8\"], [0.3333333333333333, \"#9c179e\"], [0.4444444444444444, \"#bd3786\"], [0.5555555555555556, \"#d8576b\"], [0.6666666666666666, \"#ed7953\"], [0.7777777777777778, \"#fb9f3a\"], [0.8888888888888888, \"#fdca26\"], [1.0, \"#f0f921\"]], \"sequentialminus\": [[0.0, \"#0d0887\"], [0.1111111111111111, \"#46039f\"], [0.2222222222222222, \"#7201a8\"], [0.3333333333333333, \"#9c179e\"], [0.4444444444444444, \"#bd3786\"], [0.5555555555555556, \"#d8576b\"], [0.6666666666666666, \"#ed7953\"], [0.7777777777777778, \"#fb9f3a\"], [0.8888888888888888, \"#fdca26\"], [1.0, \"#f0f921\"]]}, \"colorway\": [\"#636efa\", \"#EF553B\", \"#00cc96\", \"#ab63fa\", \"#FFA15A\", \"#19d3f3\", \"#FF6692\", \"#B6E880\", \"#FF97FF\", \"#FECB52\"], \"font\": {\"color\": \"#2a3f5f\"}, \"geo\": {\"bgcolor\": \"white\", \"lakecolor\": \"white\", \"landcolor\": \"#E5ECF6\", \"showlakes\": true, \"showland\": true, \"subunitcolor\": \"white\"}, \"hoverlabel\": {\"align\": \"left\"}, \"hovermode\": \"closest\", \"mapbox\": {\"style\": \"light\"}, \"paper_bgcolor\": \"white\", \"plot_bgcolor\": \"#E5ECF6\", \"polar\": {\"angularaxis\": {\"gridcolor\": \"white\", \"linecolor\": \"white\", \"ticks\": \"\"}, \"bgcolor\": \"#E5ECF6\", \"radialaxis\": {\"gridcolor\": \"white\", \"linecolor\": \"white\", \"ticks\": \"\"}}, \"scene\": {\"xaxis\": {\"backgroundcolor\": \"#E5ECF6\", \"gridcolor\": \"white\", \"gridwidth\": 2, \"linecolor\": \"white\", \"showbackground\": true, \"ticks\": \"\", \"zerolinecolor\": \"white\"}, \"yaxis\": {\"backgroundcolor\": \"#E5ECF6\", \"gridcolor\": \"white\", \"gridwidth\": 2, \"linecolor\": \"white\", \"showbackground\": true, \"ticks\": \"\", \"zerolinecolor\": \"white\"}, \"zaxis\": {\"backgroundcolor\": \"#E5ECF6\", \"gridcolor\": \"white\", \"gridwidth\": 2, \"linecolor\": \"white\", \"showbackground\": true, \"ticks\": \"\", \"zerolinecolor\": \"white\"}}, \"shapedefaults\": {\"line\": {\"color\": \"#2a3f5f\"}}, \"ternary\": {\"aaxis\": {\"gridcolor\": \"white\", \"linecolor\": \"white\", \"ticks\": \"\"}, \"baxis\": {\"gridcolor\": \"white\", \"linecolor\": \"white\", \"ticks\": \"\"}, \"bgcolor\": \"#E5ECF6\", \"caxis\": {\"gridcolor\": \"white\", \"linecolor\": \"white\", \"ticks\": \"\"}}, \"title\": {\"x\": 0.05}, \"xaxis\": {\"automargin\": true, \"gridcolor\": \"white\", \"linecolor\": \"white\", \"ticks\": \"\", \"title\": {\"standoff\": 15}, \"zerolinecolor\": \"white\", \"zerolinewidth\": 2}, \"yaxis\": {\"automargin\": true, \"gridcolor\": \"white\", \"linecolor\": \"white\", \"ticks\": \"\", \"title\": {\"standoff\": 15}, \"zerolinecolor\": \"white\", \"zerolinewidth\": 2}}}, \"title\": {\"text\": \"Fires Over Time\", \"x\": 0.5, \"y\": 0.96}, \"width\": 920, \"xaxis\": {\"title\": {\"text\": \"Year\"}}, \"yaxis\": {\"title\": {\"text\": \"Frequency of Fires in the US\"}}},                        {\"responsive\": true}                    ).then(function(){\n",
       "                            \n",
       "var gd = document.getElementById('72082738-02a3-419b-975d-984ef2202988');\n",
       "var x = new MutationObserver(function (mutations, observer) {{\n",
       "        var display = window.getComputedStyle(gd).display;\n",
       "        if (!display || display === 'none') {{\n",
       "            console.log([gd, 'removed!']);\n",
       "            Plotly.purge(gd);\n",
       "            observer.disconnect();\n",
       "        }}\n",
       "}});\n",
       "\n",
       "// Listen for the removal of the full notebook cells\n",
       "var notebookContainer = gd.closest('#notebook-container');\n",
       "if (notebookContainer) {{\n",
       "    x.observe(notebookContainer, {childList: true});\n",
       "}}\n",
       "\n",
       "// Listen for the clearing of the current output cell\n",
       "var outputEl = gd.closest('.output');\n",
       "if (outputEl) {{\n",
       "    x.observe(outputEl, {childList: true});\n",
       "}}\n",
       "\n",
       "                        })                };                });            </script>        </div>"
      ]
     },
     "metadata": {},
     "output_type": "display_data"
    }
   ],
   "source": [
    "import plotly.express as px\n",
    "import plotly.graph_objects as go\n",
    "\n",
    "fig = go.Figure(data = [go.Bar(\n",
    "    y=hist_tot['Fires'],\n",
    "    x=hist_tot['Year'],\n",
    "    text = round(hist_tot['Fires'],0),\n",
    "    textposition = 'auto',\n",
    "    marker_color = '#F55E61')])\n",
    "\n",
    "fig.update_layout(\n",
    "    xaxis_title = 'Year',\n",
    "    yaxis_title = 'Frequency of Fires in the US',\n",
    "    width = 920,\n",
    "    height = 500,\n",
    "    title={\n",
    "        'text': 'Fires Over Time',\n",
    "        'y':0.96,\n",
    "        'x':0.5\n",
    "    },\n",
    "    font_color = '#5e696c',\n",
    "    plot_bgcolor = 'rgba(0,0,0,0)',\n",
    "    paper_bgcolor = 'rgba(0,0,0,0)',\n",
    "    bargap = 0.05\n",
    ")\n",
    "\n",
    "fig.show()"
   ]
  },
  {
   "cell_type": "code",
   "execution_count": 121,
   "metadata": {},
   "outputs": [
    {
     "data": {
      "application/vnd.plotly.v1+json": {
       "config": {
        "plotlyServerURL": "https://plot.ly"
       },
       "data": [
        {
         "marker": {
          "color": "#5e696c"
         },
         "text": [
          4664364,
          8767492,
          10026086,
          5509995,
          10125149,
          3595613,
          4319546,
          9326238,
          8711367
         ],
         "textposition": "auto",
         "type": "bar",
         "x": [
          2019,
          2018,
          2017,
          2016,
          2015,
          2014,
          2013,
          2012,
          2011
         ],
         "y": [
          4664364,
          8767492,
          10026086,
          5509995,
          10125149,
          3595613,
          4319546,
          9326238,
          8711367
         ]
        }
       ],
       "layout": {
        "bargap": 0.05,
        "font": {
         "color": "#5e696c"
        },
        "height": 500,
        "paper_bgcolor": "rgba(0,0,0,0)",
        "plot_bgcolor": "rgba(0,0,0,0)",
        "template": {
         "data": {
          "bar": [
           {
            "error_x": {
             "color": "#2a3f5f"
            },
            "error_y": {
             "color": "#2a3f5f"
            },
            "marker": {
             "line": {
              "color": "#E5ECF6",
              "width": 0.5
             }
            },
            "type": "bar"
           }
          ],
          "barpolar": [
           {
            "marker": {
             "line": {
              "color": "#E5ECF6",
              "width": 0.5
             }
            },
            "type": "barpolar"
           }
          ],
          "carpet": [
           {
            "aaxis": {
             "endlinecolor": "#2a3f5f",
             "gridcolor": "white",
             "linecolor": "white",
             "minorgridcolor": "white",
             "startlinecolor": "#2a3f5f"
            },
            "baxis": {
             "endlinecolor": "#2a3f5f",
             "gridcolor": "white",
             "linecolor": "white",
             "minorgridcolor": "white",
             "startlinecolor": "#2a3f5f"
            },
            "type": "carpet"
           }
          ],
          "choropleth": [
           {
            "colorbar": {
             "outlinewidth": 0,
             "ticks": ""
            },
            "type": "choropleth"
           }
          ],
          "contour": [
           {
            "colorbar": {
             "outlinewidth": 0,
             "ticks": ""
            },
            "colorscale": [
             [
              0,
              "#0d0887"
             ],
             [
              0.1111111111111111,
              "#46039f"
             ],
             [
              0.2222222222222222,
              "#7201a8"
             ],
             [
              0.3333333333333333,
              "#9c179e"
             ],
             [
              0.4444444444444444,
              "#bd3786"
             ],
             [
              0.5555555555555556,
              "#d8576b"
             ],
             [
              0.6666666666666666,
              "#ed7953"
             ],
             [
              0.7777777777777778,
              "#fb9f3a"
             ],
             [
              0.8888888888888888,
              "#fdca26"
             ],
             [
              1,
              "#f0f921"
             ]
            ],
            "type": "contour"
           }
          ],
          "contourcarpet": [
           {
            "colorbar": {
             "outlinewidth": 0,
             "ticks": ""
            },
            "type": "contourcarpet"
           }
          ],
          "heatmap": [
           {
            "colorbar": {
             "outlinewidth": 0,
             "ticks": ""
            },
            "colorscale": [
             [
              0,
              "#0d0887"
             ],
             [
              0.1111111111111111,
              "#46039f"
             ],
             [
              0.2222222222222222,
              "#7201a8"
             ],
             [
              0.3333333333333333,
              "#9c179e"
             ],
             [
              0.4444444444444444,
              "#bd3786"
             ],
             [
              0.5555555555555556,
              "#d8576b"
             ],
             [
              0.6666666666666666,
              "#ed7953"
             ],
             [
              0.7777777777777778,
              "#fb9f3a"
             ],
             [
              0.8888888888888888,
              "#fdca26"
             ],
             [
              1,
              "#f0f921"
             ]
            ],
            "type": "heatmap"
           }
          ],
          "heatmapgl": [
           {
            "colorbar": {
             "outlinewidth": 0,
             "ticks": ""
            },
            "colorscale": [
             [
              0,
              "#0d0887"
             ],
             [
              0.1111111111111111,
              "#46039f"
             ],
             [
              0.2222222222222222,
              "#7201a8"
             ],
             [
              0.3333333333333333,
              "#9c179e"
             ],
             [
              0.4444444444444444,
              "#bd3786"
             ],
             [
              0.5555555555555556,
              "#d8576b"
             ],
             [
              0.6666666666666666,
              "#ed7953"
             ],
             [
              0.7777777777777778,
              "#fb9f3a"
             ],
             [
              0.8888888888888888,
              "#fdca26"
             ],
             [
              1,
              "#f0f921"
             ]
            ],
            "type": "heatmapgl"
           }
          ],
          "histogram": [
           {
            "marker": {
             "colorbar": {
              "outlinewidth": 0,
              "ticks": ""
             }
            },
            "type": "histogram"
           }
          ],
          "histogram2d": [
           {
            "colorbar": {
             "outlinewidth": 0,
             "ticks": ""
            },
            "colorscale": [
             [
              0,
              "#0d0887"
             ],
             [
              0.1111111111111111,
              "#46039f"
             ],
             [
              0.2222222222222222,
              "#7201a8"
             ],
             [
              0.3333333333333333,
              "#9c179e"
             ],
             [
              0.4444444444444444,
              "#bd3786"
             ],
             [
              0.5555555555555556,
              "#d8576b"
             ],
             [
              0.6666666666666666,
              "#ed7953"
             ],
             [
              0.7777777777777778,
              "#fb9f3a"
             ],
             [
              0.8888888888888888,
              "#fdca26"
             ],
             [
              1,
              "#f0f921"
             ]
            ],
            "type": "histogram2d"
           }
          ],
          "histogram2dcontour": [
           {
            "colorbar": {
             "outlinewidth": 0,
             "ticks": ""
            },
            "colorscale": [
             [
              0,
              "#0d0887"
             ],
             [
              0.1111111111111111,
              "#46039f"
             ],
             [
              0.2222222222222222,
              "#7201a8"
             ],
             [
              0.3333333333333333,
              "#9c179e"
             ],
             [
              0.4444444444444444,
              "#bd3786"
             ],
             [
              0.5555555555555556,
              "#d8576b"
             ],
             [
              0.6666666666666666,
              "#ed7953"
             ],
             [
              0.7777777777777778,
              "#fb9f3a"
             ],
             [
              0.8888888888888888,
              "#fdca26"
             ],
             [
              1,
              "#f0f921"
             ]
            ],
            "type": "histogram2dcontour"
           }
          ],
          "mesh3d": [
           {
            "colorbar": {
             "outlinewidth": 0,
             "ticks": ""
            },
            "type": "mesh3d"
           }
          ],
          "parcoords": [
           {
            "line": {
             "colorbar": {
              "outlinewidth": 0,
              "ticks": ""
             }
            },
            "type": "parcoords"
           }
          ],
          "pie": [
           {
            "automargin": true,
            "type": "pie"
           }
          ],
          "scatter": [
           {
            "marker": {
             "colorbar": {
              "outlinewidth": 0,
              "ticks": ""
             }
            },
            "type": "scatter"
           }
          ],
          "scatter3d": [
           {
            "line": {
             "colorbar": {
              "outlinewidth": 0,
              "ticks": ""
             }
            },
            "marker": {
             "colorbar": {
              "outlinewidth": 0,
              "ticks": ""
             }
            },
            "type": "scatter3d"
           }
          ],
          "scattercarpet": [
           {
            "marker": {
             "colorbar": {
              "outlinewidth": 0,
              "ticks": ""
             }
            },
            "type": "scattercarpet"
           }
          ],
          "scattergeo": [
           {
            "marker": {
             "colorbar": {
              "outlinewidth": 0,
              "ticks": ""
             }
            },
            "type": "scattergeo"
           }
          ],
          "scattergl": [
           {
            "marker": {
             "colorbar": {
              "outlinewidth": 0,
              "ticks": ""
             }
            },
            "type": "scattergl"
           }
          ],
          "scattermapbox": [
           {
            "marker": {
             "colorbar": {
              "outlinewidth": 0,
              "ticks": ""
             }
            },
            "type": "scattermapbox"
           }
          ],
          "scatterpolar": [
           {
            "marker": {
             "colorbar": {
              "outlinewidth": 0,
              "ticks": ""
             }
            },
            "type": "scatterpolar"
           }
          ],
          "scatterpolargl": [
           {
            "marker": {
             "colorbar": {
              "outlinewidth": 0,
              "ticks": ""
             }
            },
            "type": "scatterpolargl"
           }
          ],
          "scatterternary": [
           {
            "marker": {
             "colorbar": {
              "outlinewidth": 0,
              "ticks": ""
             }
            },
            "type": "scatterternary"
           }
          ],
          "surface": [
           {
            "colorbar": {
             "outlinewidth": 0,
             "ticks": ""
            },
            "colorscale": [
             [
              0,
              "#0d0887"
             ],
             [
              0.1111111111111111,
              "#46039f"
             ],
             [
              0.2222222222222222,
              "#7201a8"
             ],
             [
              0.3333333333333333,
              "#9c179e"
             ],
             [
              0.4444444444444444,
              "#bd3786"
             ],
             [
              0.5555555555555556,
              "#d8576b"
             ],
             [
              0.6666666666666666,
              "#ed7953"
             ],
             [
              0.7777777777777778,
              "#fb9f3a"
             ],
             [
              0.8888888888888888,
              "#fdca26"
             ],
             [
              1,
              "#f0f921"
             ]
            ],
            "type": "surface"
           }
          ],
          "table": [
           {
            "cells": {
             "fill": {
              "color": "#EBF0F8"
             },
             "line": {
              "color": "white"
             }
            },
            "header": {
             "fill": {
              "color": "#C8D4E3"
             },
             "line": {
              "color": "white"
             }
            },
            "type": "table"
           }
          ]
         },
         "layout": {
          "annotationdefaults": {
           "arrowcolor": "#2a3f5f",
           "arrowhead": 0,
           "arrowwidth": 1
          },
          "autotypenumbers": "strict",
          "coloraxis": {
           "colorbar": {
            "outlinewidth": 0,
            "ticks": ""
           }
          },
          "colorscale": {
           "diverging": [
            [
             0,
             "#8e0152"
            ],
            [
             0.1,
             "#c51b7d"
            ],
            [
             0.2,
             "#de77ae"
            ],
            [
             0.3,
             "#f1b6da"
            ],
            [
             0.4,
             "#fde0ef"
            ],
            [
             0.5,
             "#f7f7f7"
            ],
            [
             0.6,
             "#e6f5d0"
            ],
            [
             0.7,
             "#b8e186"
            ],
            [
             0.8,
             "#7fbc41"
            ],
            [
             0.9,
             "#4d9221"
            ],
            [
             1,
             "#276419"
            ]
           ],
           "sequential": [
            [
             0,
             "#0d0887"
            ],
            [
             0.1111111111111111,
             "#46039f"
            ],
            [
             0.2222222222222222,
             "#7201a8"
            ],
            [
             0.3333333333333333,
             "#9c179e"
            ],
            [
             0.4444444444444444,
             "#bd3786"
            ],
            [
             0.5555555555555556,
             "#d8576b"
            ],
            [
             0.6666666666666666,
             "#ed7953"
            ],
            [
             0.7777777777777778,
             "#fb9f3a"
            ],
            [
             0.8888888888888888,
             "#fdca26"
            ],
            [
             1,
             "#f0f921"
            ]
           ],
           "sequentialminus": [
            [
             0,
             "#0d0887"
            ],
            [
             0.1111111111111111,
             "#46039f"
            ],
            [
             0.2222222222222222,
             "#7201a8"
            ],
            [
             0.3333333333333333,
             "#9c179e"
            ],
            [
             0.4444444444444444,
             "#bd3786"
            ],
            [
             0.5555555555555556,
             "#d8576b"
            ],
            [
             0.6666666666666666,
             "#ed7953"
            ],
            [
             0.7777777777777778,
             "#fb9f3a"
            ],
            [
             0.8888888888888888,
             "#fdca26"
            ],
            [
             1,
             "#f0f921"
            ]
           ]
          },
          "colorway": [
           "#636efa",
           "#EF553B",
           "#00cc96",
           "#ab63fa",
           "#FFA15A",
           "#19d3f3",
           "#FF6692",
           "#B6E880",
           "#FF97FF",
           "#FECB52"
          ],
          "font": {
           "color": "#2a3f5f"
          },
          "geo": {
           "bgcolor": "white",
           "lakecolor": "white",
           "landcolor": "#E5ECF6",
           "showlakes": true,
           "showland": true,
           "subunitcolor": "white"
          },
          "hoverlabel": {
           "align": "left"
          },
          "hovermode": "closest",
          "mapbox": {
           "style": "light"
          },
          "paper_bgcolor": "white",
          "plot_bgcolor": "#E5ECF6",
          "polar": {
           "angularaxis": {
            "gridcolor": "white",
            "linecolor": "white",
            "ticks": ""
           },
           "bgcolor": "#E5ECF6",
           "radialaxis": {
            "gridcolor": "white",
            "linecolor": "white",
            "ticks": ""
           }
          },
          "scene": {
           "xaxis": {
            "backgroundcolor": "#E5ECF6",
            "gridcolor": "white",
            "gridwidth": 2,
            "linecolor": "white",
            "showbackground": true,
            "ticks": "",
            "zerolinecolor": "white"
           },
           "yaxis": {
            "backgroundcolor": "#E5ECF6",
            "gridcolor": "white",
            "gridwidth": 2,
            "linecolor": "white",
            "showbackground": true,
            "ticks": "",
            "zerolinecolor": "white"
           },
           "zaxis": {
            "backgroundcolor": "#E5ECF6",
            "gridcolor": "white",
            "gridwidth": 2,
            "linecolor": "white",
            "showbackground": true,
            "ticks": "",
            "zerolinecolor": "white"
           }
          },
          "shapedefaults": {
           "line": {
            "color": "#2a3f5f"
           }
          },
          "ternary": {
           "aaxis": {
            "gridcolor": "white",
            "linecolor": "white",
            "ticks": ""
           },
           "baxis": {
            "gridcolor": "white",
            "linecolor": "white",
            "ticks": ""
           },
           "bgcolor": "#E5ECF6",
           "caxis": {
            "gridcolor": "white",
            "linecolor": "white",
            "ticks": ""
           }
          },
          "title": {
           "x": 0.05
          },
          "xaxis": {
           "automargin": true,
           "gridcolor": "white",
           "linecolor": "white",
           "ticks": "",
           "title": {
            "standoff": 15
           },
           "zerolinecolor": "white",
           "zerolinewidth": 2
          },
          "yaxis": {
           "automargin": true,
           "gridcolor": "white",
           "linecolor": "white",
           "ticks": "",
           "title": {
            "standoff": 15
           },
           "zerolinecolor": "white",
           "zerolinewidth": 2
          }
         }
        },
        "title": {
         "text": "Fires are becoming more frequent with time",
         "x": 0.5,
         "y": 0.96
        },
        "width": 920,
        "xaxis": {
         "title": {
          "text": "Year"
         }
        },
        "yaxis": {
         "title": {
          "text": "Acres Burned in the US"
         }
        }
       }
      },
      "text/html": [
       "<div>                            <div id=\"1fe875b9-9ce6-4f97-ad87-4155abeaecfa\" class=\"plotly-graph-div\" style=\"height:500px; width:920px;\"></div>            <script type=\"text/javascript\">                require([\"plotly\"], function(Plotly) {                    window.PLOTLYENV=window.PLOTLYENV || {};                                    if (document.getElementById(\"1fe875b9-9ce6-4f97-ad87-4155abeaecfa\")) {                    Plotly.newPlot(                        \"1fe875b9-9ce6-4f97-ad87-4155abeaecfa\",                        [{\"marker\": {\"color\": \"#5e696c\"}, \"text\": [4664364.0, 8767492.0, 10026086.0, 5509995.0, 10125149.0, 3595613.0, 4319546.0, 9326238.0, 8711367.0], \"textposition\": \"auto\", \"type\": \"bar\", \"x\": [2019, 2018, 2017, 2016, 2015, 2014, 2013, 2012, 2011], \"y\": [4664364, 8767492, 10026086, 5509995, 10125149, 3595613, 4319546, 9326238, 8711367]}],                        {\"bargap\": 0.05, \"font\": {\"color\": \"#5e696c\"}, \"height\": 500, \"paper_bgcolor\": \"rgba(0,0,0,0)\", \"plot_bgcolor\": \"rgba(0,0,0,0)\", \"template\": {\"data\": {\"bar\": [{\"error_x\": {\"color\": \"#2a3f5f\"}, \"error_y\": {\"color\": \"#2a3f5f\"}, \"marker\": {\"line\": {\"color\": \"#E5ECF6\", \"width\": 0.5}}, \"type\": \"bar\"}], \"barpolar\": [{\"marker\": {\"line\": {\"color\": \"#E5ECF6\", \"width\": 0.5}}, \"type\": \"barpolar\"}], \"carpet\": [{\"aaxis\": {\"endlinecolor\": \"#2a3f5f\", \"gridcolor\": \"white\", \"linecolor\": \"white\", \"minorgridcolor\": \"white\", \"startlinecolor\": \"#2a3f5f\"}, \"baxis\": {\"endlinecolor\": \"#2a3f5f\", \"gridcolor\": \"white\", \"linecolor\": \"white\", \"minorgridcolor\": \"white\", \"startlinecolor\": \"#2a3f5f\"}, \"type\": \"carpet\"}], \"choropleth\": [{\"colorbar\": {\"outlinewidth\": 0, \"ticks\": \"\"}, \"type\": \"choropleth\"}], \"contour\": [{\"colorbar\": {\"outlinewidth\": 0, \"ticks\": \"\"}, \"colorscale\": [[0.0, \"#0d0887\"], [0.1111111111111111, \"#46039f\"], [0.2222222222222222, \"#7201a8\"], [0.3333333333333333, \"#9c179e\"], [0.4444444444444444, \"#bd3786\"], [0.5555555555555556, \"#d8576b\"], [0.6666666666666666, \"#ed7953\"], [0.7777777777777778, \"#fb9f3a\"], [0.8888888888888888, \"#fdca26\"], [1.0, \"#f0f921\"]], \"type\": \"contour\"}], \"contourcarpet\": [{\"colorbar\": {\"outlinewidth\": 0, \"ticks\": \"\"}, \"type\": \"contourcarpet\"}], \"heatmap\": [{\"colorbar\": {\"outlinewidth\": 0, \"ticks\": \"\"}, \"colorscale\": [[0.0, \"#0d0887\"], [0.1111111111111111, \"#46039f\"], [0.2222222222222222, \"#7201a8\"], [0.3333333333333333, \"#9c179e\"], [0.4444444444444444, \"#bd3786\"], [0.5555555555555556, \"#d8576b\"], [0.6666666666666666, \"#ed7953\"], [0.7777777777777778, \"#fb9f3a\"], [0.8888888888888888, \"#fdca26\"], [1.0, \"#f0f921\"]], \"type\": \"heatmap\"}], \"heatmapgl\": [{\"colorbar\": {\"outlinewidth\": 0, \"ticks\": \"\"}, \"colorscale\": [[0.0, \"#0d0887\"], [0.1111111111111111, \"#46039f\"], [0.2222222222222222, \"#7201a8\"], [0.3333333333333333, \"#9c179e\"], [0.4444444444444444, \"#bd3786\"], [0.5555555555555556, \"#d8576b\"], [0.6666666666666666, \"#ed7953\"], [0.7777777777777778, \"#fb9f3a\"], [0.8888888888888888, \"#fdca26\"], [1.0, \"#f0f921\"]], \"type\": \"heatmapgl\"}], \"histogram\": [{\"marker\": {\"colorbar\": {\"outlinewidth\": 0, \"ticks\": \"\"}}, \"type\": \"histogram\"}], \"histogram2d\": [{\"colorbar\": {\"outlinewidth\": 0, \"ticks\": \"\"}, \"colorscale\": [[0.0, \"#0d0887\"], [0.1111111111111111, \"#46039f\"], [0.2222222222222222, \"#7201a8\"], [0.3333333333333333, \"#9c179e\"], [0.4444444444444444, \"#bd3786\"], [0.5555555555555556, \"#d8576b\"], [0.6666666666666666, \"#ed7953\"], [0.7777777777777778, \"#fb9f3a\"], [0.8888888888888888, \"#fdca26\"], [1.0, \"#f0f921\"]], \"type\": \"histogram2d\"}], \"histogram2dcontour\": [{\"colorbar\": {\"outlinewidth\": 0, \"ticks\": \"\"}, \"colorscale\": [[0.0, \"#0d0887\"], [0.1111111111111111, \"#46039f\"], [0.2222222222222222, \"#7201a8\"], [0.3333333333333333, \"#9c179e\"], [0.4444444444444444, \"#bd3786\"], [0.5555555555555556, \"#d8576b\"], [0.6666666666666666, \"#ed7953\"], [0.7777777777777778, \"#fb9f3a\"], [0.8888888888888888, \"#fdca26\"], [1.0, \"#f0f921\"]], \"type\": \"histogram2dcontour\"}], \"mesh3d\": [{\"colorbar\": {\"outlinewidth\": 0, \"ticks\": \"\"}, \"type\": \"mesh3d\"}], \"parcoords\": [{\"line\": {\"colorbar\": {\"outlinewidth\": 0, \"ticks\": \"\"}}, \"type\": \"parcoords\"}], \"pie\": [{\"automargin\": true, \"type\": \"pie\"}], \"scatter\": [{\"marker\": {\"colorbar\": {\"outlinewidth\": 0, \"ticks\": \"\"}}, \"type\": \"scatter\"}], \"scatter3d\": [{\"line\": {\"colorbar\": {\"outlinewidth\": 0, \"ticks\": \"\"}}, \"marker\": {\"colorbar\": {\"outlinewidth\": 0, \"ticks\": \"\"}}, \"type\": \"scatter3d\"}], \"scattercarpet\": [{\"marker\": {\"colorbar\": {\"outlinewidth\": 0, \"ticks\": \"\"}}, \"type\": \"scattercarpet\"}], \"scattergeo\": [{\"marker\": {\"colorbar\": {\"outlinewidth\": 0, \"ticks\": \"\"}}, \"type\": \"scattergeo\"}], \"scattergl\": [{\"marker\": {\"colorbar\": {\"outlinewidth\": 0, \"ticks\": \"\"}}, \"type\": \"scattergl\"}], \"scattermapbox\": [{\"marker\": {\"colorbar\": {\"outlinewidth\": 0, \"ticks\": \"\"}}, \"type\": \"scattermapbox\"}], \"scatterpolar\": [{\"marker\": {\"colorbar\": {\"outlinewidth\": 0, \"ticks\": \"\"}}, \"type\": \"scatterpolar\"}], \"scatterpolargl\": [{\"marker\": {\"colorbar\": {\"outlinewidth\": 0, \"ticks\": \"\"}}, \"type\": \"scatterpolargl\"}], \"scatterternary\": [{\"marker\": {\"colorbar\": {\"outlinewidth\": 0, \"ticks\": \"\"}}, \"type\": \"scatterternary\"}], \"surface\": [{\"colorbar\": {\"outlinewidth\": 0, \"ticks\": \"\"}, \"colorscale\": [[0.0, \"#0d0887\"], [0.1111111111111111, \"#46039f\"], [0.2222222222222222, \"#7201a8\"], [0.3333333333333333, \"#9c179e\"], [0.4444444444444444, \"#bd3786\"], [0.5555555555555556, \"#d8576b\"], [0.6666666666666666, \"#ed7953\"], [0.7777777777777778, \"#fb9f3a\"], [0.8888888888888888, \"#fdca26\"], [1.0, \"#f0f921\"]], \"type\": \"surface\"}], \"table\": [{\"cells\": {\"fill\": {\"color\": \"#EBF0F8\"}, \"line\": {\"color\": \"white\"}}, \"header\": {\"fill\": {\"color\": \"#C8D4E3\"}, \"line\": {\"color\": \"white\"}}, \"type\": \"table\"}]}, \"layout\": {\"annotationdefaults\": {\"arrowcolor\": \"#2a3f5f\", \"arrowhead\": 0, \"arrowwidth\": 1}, \"autotypenumbers\": \"strict\", \"coloraxis\": {\"colorbar\": {\"outlinewidth\": 0, \"ticks\": \"\"}}, \"colorscale\": {\"diverging\": [[0, \"#8e0152\"], [0.1, \"#c51b7d\"], [0.2, \"#de77ae\"], [0.3, \"#f1b6da\"], [0.4, \"#fde0ef\"], [0.5, \"#f7f7f7\"], [0.6, \"#e6f5d0\"], [0.7, \"#b8e186\"], [0.8, \"#7fbc41\"], [0.9, \"#4d9221\"], [1, \"#276419\"]], \"sequential\": [[0.0, \"#0d0887\"], [0.1111111111111111, \"#46039f\"], [0.2222222222222222, \"#7201a8\"], [0.3333333333333333, \"#9c179e\"], [0.4444444444444444, \"#bd3786\"], [0.5555555555555556, \"#d8576b\"], [0.6666666666666666, \"#ed7953\"], [0.7777777777777778, \"#fb9f3a\"], [0.8888888888888888, \"#fdca26\"], [1.0, \"#f0f921\"]], \"sequentialminus\": [[0.0, \"#0d0887\"], [0.1111111111111111, \"#46039f\"], [0.2222222222222222, \"#7201a8\"], [0.3333333333333333, \"#9c179e\"], [0.4444444444444444, \"#bd3786\"], [0.5555555555555556, \"#d8576b\"], [0.6666666666666666, \"#ed7953\"], [0.7777777777777778, \"#fb9f3a\"], [0.8888888888888888, \"#fdca26\"], [1.0, \"#f0f921\"]]}, \"colorway\": [\"#636efa\", \"#EF553B\", \"#00cc96\", \"#ab63fa\", \"#FFA15A\", \"#19d3f3\", \"#FF6692\", \"#B6E880\", \"#FF97FF\", \"#FECB52\"], \"font\": {\"color\": \"#2a3f5f\"}, \"geo\": {\"bgcolor\": \"white\", \"lakecolor\": \"white\", \"landcolor\": \"#E5ECF6\", \"showlakes\": true, \"showland\": true, \"subunitcolor\": \"white\"}, \"hoverlabel\": {\"align\": \"left\"}, \"hovermode\": \"closest\", \"mapbox\": {\"style\": \"light\"}, \"paper_bgcolor\": \"white\", \"plot_bgcolor\": \"#E5ECF6\", \"polar\": {\"angularaxis\": {\"gridcolor\": \"white\", \"linecolor\": \"white\", \"ticks\": \"\"}, \"bgcolor\": \"#E5ECF6\", \"radialaxis\": {\"gridcolor\": \"white\", \"linecolor\": \"white\", \"ticks\": \"\"}}, \"scene\": {\"xaxis\": {\"backgroundcolor\": \"#E5ECF6\", \"gridcolor\": \"white\", \"gridwidth\": 2, \"linecolor\": \"white\", \"showbackground\": true, \"ticks\": \"\", \"zerolinecolor\": \"white\"}, \"yaxis\": {\"backgroundcolor\": \"#E5ECF6\", \"gridcolor\": \"white\", \"gridwidth\": 2, \"linecolor\": \"white\", \"showbackground\": true, \"ticks\": \"\", \"zerolinecolor\": \"white\"}, \"zaxis\": {\"backgroundcolor\": \"#E5ECF6\", \"gridcolor\": \"white\", \"gridwidth\": 2, \"linecolor\": \"white\", \"showbackground\": true, \"ticks\": \"\", \"zerolinecolor\": \"white\"}}, \"shapedefaults\": {\"line\": {\"color\": \"#2a3f5f\"}}, \"ternary\": {\"aaxis\": {\"gridcolor\": \"white\", \"linecolor\": \"white\", \"ticks\": \"\"}, \"baxis\": {\"gridcolor\": \"white\", \"linecolor\": \"white\", \"ticks\": \"\"}, \"bgcolor\": \"#E5ECF6\", \"caxis\": {\"gridcolor\": \"white\", \"linecolor\": \"white\", \"ticks\": \"\"}}, \"title\": {\"x\": 0.05}, \"xaxis\": {\"automargin\": true, \"gridcolor\": \"white\", \"linecolor\": \"white\", \"ticks\": \"\", \"title\": {\"standoff\": 15}, \"zerolinecolor\": \"white\", \"zerolinewidth\": 2}, \"yaxis\": {\"automargin\": true, \"gridcolor\": \"white\", \"linecolor\": \"white\", \"ticks\": \"\", \"title\": {\"standoff\": 15}, \"zerolinecolor\": \"white\", \"zerolinewidth\": 2}}}, \"title\": {\"text\": \"Fires are becoming more frequent with time\", \"x\": 0.5, \"y\": 0.96}, \"width\": 920, \"xaxis\": {\"title\": {\"text\": \"Year\"}}, \"yaxis\": {\"title\": {\"text\": \"Acres Burned in the US\"}}},                        {\"responsive\": true}                    ).then(function(){\n",
       "                            \n",
       "var gd = document.getElementById('1fe875b9-9ce6-4f97-ad87-4155abeaecfa');\n",
       "var x = new MutationObserver(function (mutations, observer) {{\n",
       "        var display = window.getComputedStyle(gd).display;\n",
       "        if (!display || display === 'none') {{\n",
       "            console.log([gd, 'removed!']);\n",
       "            Plotly.purge(gd);\n",
       "            observer.disconnect();\n",
       "        }}\n",
       "}});\n",
       "\n",
       "// Listen for the removal of the full notebook cells\n",
       "var notebookContainer = gd.closest('#notebook-container');\n",
       "if (notebookContainer) {{\n",
       "    x.observe(notebookContainer, {childList: true});\n",
       "}}\n",
       "\n",
       "// Listen for the clearing of the current output cell\n",
       "var outputEl = gd.closest('.output');\n",
       "if (outputEl) {{\n",
       "    x.observe(outputEl, {childList: true});\n",
       "}}\n",
       "\n",
       "                        })                };                });            </script>        </div>"
      ]
     },
     "metadata": {},
     "output_type": "display_data"
    }
   ],
   "source": [
    "fig = go.Figure(data = [go.Bar(\n",
    "    y=hist_tot['Acres'],\n",
    "    x=hist_tot['Year'],\n",
    "    text = round(hist_tot['Acres'],0),\n",
    "    textposition = 'auto',\n",
    "    marker_color = '#5e696c')])\n",
    "\n",
    "fig.update_layout(\n",
    "    xaxis_title = 'Year',\n",
    "    yaxis_title = 'Acres Burned in the US',\n",
    "    width = 920,\n",
    "    height = 500,\n",
    "    title={\n",
    "        'text': 'Fires are becoming more frequent with time',\n",
    "        'y':0.96,\n",
    "        'x':0.5\n",
    "    },\n",
    "    font_color = '#5e696c',\n",
    "    plot_bgcolor = 'rgba(0,0,0,0)',\n",
    "    paper_bgcolor = 'rgba(0,0,0,0)',\n",
    "    bargap = 0.05\n",
    ")\n",
    "\n",
    "fig.show()"
   ]
  },
  {
   "cell_type": "code",
   "execution_count": 97,
   "metadata": {},
   "outputs": [
    {
     "name": "stdout",
     "output_type": "stream",
     "text": [
      "<class 'str'> \n",
      "\n",
      "['2008' '2007' '1968' '1969' '1967' '1966' '1998' '1971' '1955' '1959'\n",
      " '1972' '1993' '1990' '1988' '1954' '1997' '2005' '1999' '1994' '1957'\n",
      " '1942' '1991' '2002' '1943' '1946' '2006' '1996' '2000' '1976' '1992'\n",
      " '2009' '2004' '1956' '1986' '1981' '1974' '2003' '1973' '1985' '1962'\n",
      " '1953' '1947' '1958' '1987' '2010' '2011' '2013' '2014' '2012' '1979'\n",
      " '1950' '1951' '1970' '1952' '1984' '1940' '2015' '1977' '1982' '1944'\n",
      " '1983' '1960' '1980' '2001' '1975' '1989' '1963' '1995' '1948' '2016'\n",
      " '1965' '2017' '2018' '1978' '1926' '1931' '1964' '1929' '1927' '1928'\n",
      " '1924' '1949' '1937' '1933' '1916' '9999' '1911' '1932' '1878' '1895'\n",
      " '1896' '1898' '1938' '1941' '1908' '1909' '1917' '1900' '1925' '1922'\n",
      " '1923' '1910' '1936' '1912' '1915' '1935' '1961' '1914' '1945' '1919'\n",
      " '1939' '1903' '1905' '1906' '1907' '1913' '1921' '1930' '1934' '1920'\n",
      " '1902' '0' '1889' '1876' '1880' '1890' '1918' '1860' '1885' '1888' '1891'\n",
      " '1872' '1870' '1877' '1835' '1886' '1894' '1859' '2050' '18' '2019'\n",
      " '1850' '1856' '1874' '1838' '1840' '1897' '1873' '1865' '1899' '1864'\n",
      " '1893' '1901' '1854' '1867' '1881']\n"
     ]
    },
    {
     "data": {
      "text/plain": [
       "numpy.int64"
      ]
     },
     "execution_count": 97,
     "metadata": {},
     "output_type": "execute_result"
    }
   ],
   "source": [
    "#Checking data type in fire year column\n",
    "print(type(historical['FIRE_YEAR'][0]), '\\n')\n",
    "print(historical['FIRE_YEAR'].unique())\n",
    "\n",
    "#Removing blank spaces and replacing with 9999 value\n",
    "historical.loc[historical['FIRE_YEAR'] == ' ', 'FIRE_YEAR'] = '9999'\n",
    "\n",
    "#Converting data type to int\n",
    "historical['FIRE_YEAR'] = historical['FIRE_YEAR'].astype(int)\n",
    "\n",
    "#Checking conversion\n",
    "type(historical['FIRE_YEAR'][0])"
   ]
  },
  {
   "cell_type": "code",
   "execution_count": 98,
   "metadata": {},
   "outputs": [],
   "source": [
    "historical = historical.loc[(historical['FIRE_YEAR'] == 2010) | \\\n",
    "              (historical['FIRE_YEAR'] == 2011) | \\\n",
    "              (historical['FIRE_YEAR'] == 2012) | \\\n",
    "              (historical['FIRE_YEAR'] == 2013) | \\\n",
    "              (historical['FIRE_YEAR'] == 2014) | \\\n",
    "              (historical['FIRE_YEAR'] == 2015) | \\\n",
    "              (historical['FIRE_YEAR'] == 2016) | \\\n",
    "              (historical['FIRE_YEAR'] == 2017) | \\\n",
    "              (historical['FIRE_YEAR'] == 2018) | \\\n",
    "              (historical['FIRE_YEAR'] == 2019)]"
   ]
  },
  {
   "cell_type": "code",
   "execution_count": 103,
   "metadata": {},
   "outputs": [
    {
     "data": {
      "text/plain": [
       "(21682, 20)"
      ]
     },
     "execution_count": 103,
     "metadata": {},
     "output_type": "execute_result"
    }
   ],
   "source": [
    "historical.shape"
   ]
  },
  {
   "cell_type": "code",
   "execution_count": 99,
   "metadata": {},
   "outputs": [
    {
     "data": {
      "text/plain": [
       "array([' ', 'Wildfire', 'Final Wildfire Perimeter',\n",
       "       'Fineal Wildfire Perimeter', 'Daily Wildfire Perimeter',\n",
       "       'Wildfire Daily Fire Perimeter'], dtype=object)"
      ]
     },
     "execution_count": 99,
     "metadata": {},
     "output_type": "execute_result"
    }
   ],
   "source": [
    "historical['FEATURE_CA'].unique()"
   ]
  },
  {
   "cell_type": "code",
   "execution_count": 105,
   "metadata": {},
   "outputs": [
    {
     "data": {
      "text/html": [
       "<div>\n",
       "<style scoped>\n",
       "    .dataframe tbody tr th:only-of-type {\n",
       "        vertical-align: middle;\n",
       "    }\n",
       "\n",
       "    .dataframe tbody tr th {\n",
       "        vertical-align: top;\n",
       "    }\n",
       "\n",
       "    .dataframe thead th {\n",
       "        text-align: right;\n",
       "    }\n",
       "</style>\n",
       "<table border=\"1\" class=\"dataframe\">\n",
       "  <thead>\n",
       "    <tr style=\"text-align: right;\">\n",
       "      <th></th>\n",
       "      <th>FID</th>\n",
       "      <th>OBJECTID</th>\n",
       "      <th>MAP_METHOD</th>\n",
       "      <th>DATE_CUR</th>\n",
       "      <th>COMMENTS</th>\n",
       "      <th>GEO_ID</th>\n",
       "      <th>IRWINID</th>\n",
       "      <th>UNQE_FIRE_</th>\n",
       "      <th>FIRE_YEAR</th>\n",
       "      <th>LOCAL_NUM</th>\n",
       "      <th>INCIDENT</th>\n",
       "      <th>UNIT_ID</th>\n",
       "      <th>POO_RESP_I</th>\n",
       "      <th>FEATURE_CA</th>\n",
       "      <th>GIS_ACRES</th>\n",
       "      <th>USER_NAME</th>\n",
       "      <th>SOURCE</th>\n",
       "      <th>AGENCY</th>\n",
       "      <th>SHAPE_Length</th>\n",
       "      <th>SHAPE_Area</th>\n",
       "    </tr>\n",
       "  </thead>\n",
       "  <tbody>\n",
       "    <tr>\n",
       "      <th>9096</th>\n",
       "      <td>9097</td>\n",
       "      <td>0</td>\n",
       "      <td>1</td>\n",
       "      <td></td>\n",
       "      <td></td>\n",
       "      <td>11929</td>\n",
       "      <td></td>\n",
       "      <td></td>\n",
       "      <td>2010</td>\n",
       "      <td>00005505</td>\n",
       "      <td>HART</td>\n",
       "      <td>SKU</td>\n",
       "      <td></td>\n",
       "      <td>Wildfire</td>\n",
       "      <td>3.321197</td>\n",
       "      <td></td>\n",
       "      <td>CalFire FRAP</td>\n",
       "      <td>CDF</td>\n",
       "      <td>0.004669</td>\n",
       "      <td>1.452815e-06</td>\n",
       "    </tr>\n",
       "    <tr>\n",
       "      <th>9097</th>\n",
       "      <td>9098</td>\n",
       "      <td>0</td>\n",
       "      <td>1</td>\n",
       "      <td></td>\n",
       "      <td></td>\n",
       "      <td>11930</td>\n",
       "      <td></td>\n",
       "      <td></td>\n",
       "      <td>2010</td>\n",
       "      <td>00005373</td>\n",
       "      <td>HOLLOW</td>\n",
       "      <td>SKU</td>\n",
       "      <td></td>\n",
       "      <td>Wildfire</td>\n",
       "      <td>1.371385</td>\n",
       "      <td></td>\n",
       "      <td>CalFire FRAP</td>\n",
       "      <td>CDF</td>\n",
       "      <td>0.003536</td>\n",
       "      <td>5.993992e-07</td>\n",
       "    </tr>\n",
       "    <tr>\n",
       "      <th>9098</th>\n",
       "      <td>9099</td>\n",
       "      <td>0</td>\n",
       "      <td>1</td>\n",
       "      <td></td>\n",
       "      <td></td>\n",
       "      <td>11931</td>\n",
       "      <td></td>\n",
       "      <td></td>\n",
       "      <td>2010</td>\n",
       "      <td>00002154</td>\n",
       "      <td>RY</td>\n",
       "      <td>SKU</td>\n",
       "      <td></td>\n",
       "      <td>Wildfire</td>\n",
       "      <td>7.196177</td>\n",
       "      <td></td>\n",
       "      <td>CalFire FRAP</td>\n",
       "      <td>CDF</td>\n",
       "      <td>0.010973</td>\n",
       "      <td>3.145554e-06</td>\n",
       "    </tr>\n",
       "    <tr>\n",
       "      <th>9099</th>\n",
       "      <td>9100</td>\n",
       "      <td>0</td>\n",
       "      <td>1</td>\n",
       "      <td></td>\n",
       "      <td></td>\n",
       "      <td>11932</td>\n",
       "      <td></td>\n",
       "      <td></td>\n",
       "      <td>2010</td>\n",
       "      <td>00004299</td>\n",
       "      <td>WHISKEY</td>\n",
       "      <td>SKU</td>\n",
       "      <td></td>\n",
       "      <td>Wildfire</td>\n",
       "      <td>0.228372</td>\n",
       "      <td></td>\n",
       "      <td>CalFire FRAP</td>\n",
       "      <td>CDF</td>\n",
       "      <td>0.001207</td>\n",
       "      <td>9.957303e-08</td>\n",
       "    </tr>\n",
       "    <tr>\n",
       "      <th>9100</th>\n",
       "      <td>9101</td>\n",
       "      <td>0</td>\n",
       "      <td>1</td>\n",
       "      <td></td>\n",
       "      <td></td>\n",
       "      <td>11933</td>\n",
       "      <td></td>\n",
       "      <td></td>\n",
       "      <td>2010</td>\n",
       "      <td>00008386</td>\n",
       "      <td>ANTELOPE</td>\n",
       "      <td>SLU</td>\n",
       "      <td></td>\n",
       "      <td>Wildfire</td>\n",
       "      <td>193.618260</td>\n",
       "      <td></td>\n",
       "      <td>CalFire FRAP</td>\n",
       "      <td>CDF</td>\n",
       "      <td>0.041224</td>\n",
       "      <td>7.806305e-05</td>\n",
       "    </tr>\n",
       "    <tr>\n",
       "      <th>...</th>\n",
       "      <td>...</td>\n",
       "      <td>...</td>\n",
       "      <td>...</td>\n",
       "      <td>...</td>\n",
       "      <td>...</td>\n",
       "      <td>...</td>\n",
       "      <td>...</td>\n",
       "      <td>...</td>\n",
       "      <td>...</td>\n",
       "      <td>...</td>\n",
       "      <td>...</td>\n",
       "      <td>...</td>\n",
       "      <td>...</td>\n",
       "      <td>...</td>\n",
       "      <td>...</td>\n",
       "      <td>...</td>\n",
       "      <td>...</td>\n",
       "      <td>...</td>\n",
       "      <td>...</td>\n",
       "      <td>...</td>\n",
       "    </tr>\n",
       "    <tr>\n",
       "      <th>94042</th>\n",
       "      <td>94043</td>\n",
       "      <td>18584</td>\n",
       "      <td>Image Interpretation</td>\n",
       "      <td>201902241324</td>\n",
       "      <td></td>\n",
       "      <td>{1F19891D-3AFA-410D-834B-2597E55A3EAD}</td>\n",
       "      <td>726175</td>\n",
       "      <td>2018-UTBRP-4</td>\n",
       "      <td>2018</td>\n",
       "      <td>4</td>\n",
       "      <td>Riggs</td>\n",
       "      <td>UTBRP</td>\n",
       "      <td>UTBRP</td>\n",
       "      <td>Wildfire</td>\n",
       "      <td>0.029744</td>\n",
       "      <td></td>\n",
       "      <td>NPS</td>\n",
       "      <td>NPS</td>\n",
       "      <td>0.000449</td>\n",
       "      <td>1.226459e-08</td>\n",
       "    </tr>\n",
       "    <tr>\n",
       "      <th>94048</th>\n",
       "      <td>94049</td>\n",
       "      <td>18590</td>\n",
       "      <td>Unknown</td>\n",
       "      <td>201708071758</td>\n",
       "      <td></td>\n",
       "      <td>{1F6B73CE-9E21-46F3-A370-047259C79FCC}</td>\n",
       "      <td>616604</td>\n",
       "      <td>2010-COGSP-1001</td>\n",
       "      <td>2010</td>\n",
       "      <td>1001</td>\n",
       "      <td>Medano</td>\n",
       "      <td>COGSP</td>\n",
       "      <td>COGSP</td>\n",
       "      <td>Wildfire</td>\n",
       "      <td>13.217643</td>\n",
       "      <td></td>\n",
       "      <td>NPS</td>\n",
       "      <td>NPS</td>\n",
       "      <td>0.012453</td>\n",
       "      <td>5.475346e-06</td>\n",
       "    </tr>\n",
       "    <tr>\n",
       "      <th>94049</th>\n",
       "      <td>94050</td>\n",
       "      <td>18591</td>\n",
       "      <td>Unknown</td>\n",
       "      <td>201712011701</td>\n",
       "      <td></td>\n",
       "      <td>{1F6D4357-B4FE-4863-8832-D60E4C0548BB}</td>\n",
       "      <td>634937</td>\n",
       "      <td>2012-ALLRP-1004</td>\n",
       "      <td>2012</td>\n",
       "      <td>1004</td>\n",
       "      <td>Dunn Fire</td>\n",
       "      <td>ALLRP</td>\n",
       "      <td>ALLRP</td>\n",
       "      <td>Wildfire</td>\n",
       "      <td>240.928710</td>\n",
       "      <td></td>\n",
       "      <td>NPS</td>\n",
       "      <td>NPS</td>\n",
       "      <td>0.053761</td>\n",
       "      <td>9.565837e-05</td>\n",
       "    </tr>\n",
       "    <tr>\n",
       "      <th>94051</th>\n",
       "      <td>94052</td>\n",
       "      <td>18593</td>\n",
       "      <td>Image Interpretation</td>\n",
       "      <td>201902241324</td>\n",
       "      <td></td>\n",
       "      <td>{1FA7859C-50C3-4453-9959-E4442AAE8CCF}</td>\n",
       "      <td>726175</td>\n",
       "      <td>2018-UTBRP-4</td>\n",
       "      <td>2018</td>\n",
       "      <td>4</td>\n",
       "      <td>Riggs</td>\n",
       "      <td>UTBRP</td>\n",
       "      <td>UTBRP</td>\n",
       "      <td>Wildfire</td>\n",
       "      <td>2254.415300</td>\n",
       "      <td></td>\n",
       "      <td>NPS</td>\n",
       "      <td>NPS</td>\n",
       "      <td>0.283500</td>\n",
       "      <td>9.293104e-04</td>\n",
       "    </tr>\n",
       "    <tr>\n",
       "      <th>94054</th>\n",
       "      <td>94055</td>\n",
       "      <td>18596</td>\n",
       "      <td>Unknown</td>\n",
       "      <td>201703132221</td>\n",
       "      <td></td>\n",
       "      <td>{20272842-5170-4493-B648-2E3866D7955A}</td>\n",
       "      <td>632036</td>\n",
       "      <td>2011-CAYNP-3590</td>\n",
       "      <td>2011</td>\n",
       "      <td>3590</td>\n",
       "      <td>CASCADE</td>\n",
       "      <td>CAYNP</td>\n",
       "      <td>CAYNP</td>\n",
       "      <td>Wildfire</td>\n",
       "      <td>0.196303</td>\n",
       "      <td></td>\n",
       "      <td>NPS</td>\n",
       "      <td>NPS</td>\n",
       "      <td>0.001009</td>\n",
       "      <td>8.083191e-08</td>\n",
       "    </tr>\n",
       "  </tbody>\n",
       "</table>\n",
       "<p>13077 rows × 20 columns</p>\n",
       "</div>"
      ],
      "text/plain": [
       "         FID  OBJECTID            MAP_METHOD      DATE_CUR COMMENTS  \\\n",
       "9096    9097         0                     1                          \n",
       "9097    9098         0                     1                          \n",
       "9098    9099         0                     1                          \n",
       "9099    9100         0                     1                          \n",
       "9100    9101         0                     1                          \n",
       "...      ...       ...                   ...           ...      ...   \n",
       "94042  94043     18584  Image Interpretation  201902241324            \n",
       "94048  94049     18590               Unknown  201708071758            \n",
       "94049  94050     18591               Unknown  201712011701            \n",
       "94051  94052     18593  Image Interpretation  201902241324            \n",
       "94054  94055     18596               Unknown  201703132221            \n",
       "\n",
       "                                       GEO_ID IRWINID       UNQE_FIRE_  \\\n",
       "9096                                    11929                            \n",
       "9097                                    11930                            \n",
       "9098                                    11931                            \n",
       "9099                                    11932                            \n",
       "9100                                    11933                            \n",
       "...                                       ...     ...              ...   \n",
       "94042  {1F19891D-3AFA-410D-834B-2597E55A3EAD}  726175     2018-UTBRP-4   \n",
       "94048  {1F6B73CE-9E21-46F3-A370-047259C79FCC}  616604  2010-COGSP-1001   \n",
       "94049  {1F6D4357-B4FE-4863-8832-D60E4C0548BB}  634937  2012-ALLRP-1004   \n",
       "94051  {1FA7859C-50C3-4453-9959-E4442AAE8CCF}  726175     2018-UTBRP-4   \n",
       "94054  {20272842-5170-4493-B648-2E3866D7955A}  632036  2011-CAYNP-3590   \n",
       "\n",
       "       FIRE_YEAR LOCAL_NUM   INCIDENT UNIT_ID POO_RESP_I FEATURE_CA  \\\n",
       "9096        2010  00005505       HART     SKU              Wildfire   \n",
       "9097        2010  00005373     HOLLOW     SKU              Wildfire   \n",
       "9098        2010  00002154         RY     SKU              Wildfire   \n",
       "9099        2010  00004299    WHISKEY     SKU              Wildfire   \n",
       "9100        2010  00008386   ANTELOPE     SLU              Wildfire   \n",
       "...          ...       ...        ...     ...        ...        ...   \n",
       "94042       2018         4      Riggs   UTBRP      UTBRP   Wildfire   \n",
       "94048       2010      1001     Medano   COGSP      COGSP   Wildfire   \n",
       "94049       2012      1004  Dunn Fire   ALLRP      ALLRP   Wildfire   \n",
       "94051       2018         4      Riggs   UTBRP      UTBRP   Wildfire   \n",
       "94054       2011      3590    CASCADE   CAYNP      CAYNP   Wildfire   \n",
       "\n",
       "         GIS_ACRES USER_NAME        SOURCE AGENCY  SHAPE_Length    SHAPE_Area  \n",
       "9096      3.321197            CalFire FRAP    CDF      0.004669  1.452815e-06  \n",
       "9097      1.371385            CalFire FRAP    CDF      0.003536  5.993992e-07  \n",
       "9098      7.196177            CalFire FRAP    CDF      0.010973  3.145554e-06  \n",
       "9099      0.228372            CalFire FRAP    CDF      0.001207  9.957303e-08  \n",
       "9100    193.618260            CalFire FRAP    CDF      0.041224  7.806305e-05  \n",
       "...            ...       ...           ...    ...           ...           ...  \n",
       "94042     0.029744                     NPS    NPS      0.000449  1.226459e-08  \n",
       "94048    13.217643                     NPS    NPS      0.012453  5.475346e-06  \n",
       "94049   240.928710                     NPS    NPS      0.053761  9.565837e-05  \n",
       "94051  2254.415300                     NPS    NPS      0.283500  9.293104e-04  \n",
       "94054     0.196303                     NPS    NPS      0.001009  8.083191e-08  \n",
       "\n",
       "[13077 rows x 20 columns]"
      ]
     },
     "execution_count": 105,
     "metadata": {},
     "output_type": "execute_result"
    }
   ],
   "source": [
    "historical.loc[historical['FEATURE_CA'] == 'Wildfire']"
   ]
  },
  {
   "cell_type": "code",
   "execution_count": 100,
   "metadata": {},
   "outputs": [
    {
     "data": {
      "text/plain": [
       "7343"
      ]
     },
     "execution_count": 100,
     "metadata": {},
     "output_type": "execute_result"
    }
   ],
   "source": [
    "historical.loc[historical['FEATURE_CA'] == ' '].shape[0]"
   ]
  },
  {
   "cell_type": "code",
   "execution_count": 106,
   "metadata": {},
   "outputs": [
    {
     "data": {
      "text/plain": [
       "1240"
      ]
     },
     "execution_count": 106,
     "metadata": {},
     "output_type": "execute_result"
    }
   ],
   "source": [
    "historical.loc[historical['FEATURE_CA'] == 'Final Wildfire Perimeter'].shape[0]"
   ]
  },
  {
   "cell_type": "code",
   "execution_count": 102,
   "metadata": {
    "scrolled": false
   },
   "outputs": [
    {
     "data": {
      "text/plain": [
       "52"
      ]
     },
     "execution_count": 102,
     "metadata": {},
     "output_type": "execute_result"
    }
   ],
   "source": [
    "historical.loc[(historical['FEATURE_CA'] == ' ') & ~(historical['UNQE_FIRE_'] == ' ')].shape[0]"
   ]
  },
  {
   "cell_type": "code",
   "execution_count": 64,
   "metadata": {},
   "outputs": [
    {
     "data": {
      "text/plain": [
       "FIRE_YEAR\n",
       "2010    2.851381e+06\n",
       "2011    1.120189e+07\n",
       "2012    1.081480e+07\n",
       "2013    5.042069e+06\n",
       "2014    1.998817e+06\n",
       "2015    8.528194e+06\n",
       "2016    4.050831e+06\n",
       "2017    1.340138e+07\n",
       "2018    9.587078e+06\n",
       "2019    5.985856e+01\n",
       "Name: GIS_ACRES, dtype: float64"
      ]
     },
     "execution_count": 64,
     "metadata": {},
     "output_type": "execute_result"
    }
   ],
   "source": [
    "historical.groupby('FIRE_YEAR')['GIS_ACRES'].sum()"
   ]
  },
  {
   "cell_type": "code",
   "execution_count": 66,
   "metadata": {},
   "outputs": [
    {
     "data": {
      "text/plain": [
       "FIRE_YEAR\n",
       "2010    2069\n",
       "2011    2556\n",
       "2012    2721\n",
       "2013    1840\n",
       "2014    1719\n",
       "2015    2411\n",
       "2016    2532\n",
       "2017    3339\n",
       "2018    2491\n",
       "2019       4\n",
       "Name: FID, dtype: int64"
      ]
     },
     "execution_count": 66,
     "metadata": {},
     "output_type": "execute_result"
    }
   ],
   "source": [
    "historical.groupby('FIRE_YEAR')['FID'].count()"
   ]
  }
 ],
 "metadata": {
  "kernelspec": {
   "display_name": "Python 3",
   "language": "python",
   "name": "python3"
  },
  "language_info": {
   "codemirror_mode": {
    "name": "ipython",
    "version": 3
   },
   "file_extension": ".py",
   "mimetype": "text/x-python",
   "name": "python",
   "nbconvert_exporter": "python",
   "pygments_lexer": "ipython3",
   "version": "3.8.5"
  }
 },
 "nbformat": 4,
 "nbformat_minor": 4
}
